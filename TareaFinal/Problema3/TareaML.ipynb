{
 "cells": [
  {
   "cell_type": "code",
   "execution_count": 29,
   "metadata": {},
   "outputs": [
    {
     "data": {
      "text/html": [
       "<div>\n",
       "<style scoped>\n",
       "    .dataframe tbody tr th:only-of-type {\n",
       "        vertical-align: middle;\n",
       "    }\n",
       "\n",
       "    .dataframe tbody tr th {\n",
       "        vertical-align: top;\n",
       "    }\n",
       "\n",
       "    .dataframe thead th {\n",
       "        text-align: right;\n",
       "    }\n",
       "</style>\n",
       "<table border=\"1\" class=\"dataframe\">\n",
       "  <thead>\n",
       "    <tr style=\"text-align: right;\">\n",
       "      <th></th>\n",
       "      <th>V1</th>\n",
       "      <th>V2</th>\n",
       "      <th>V3</th>\n",
       "      <th>V4</th>\n",
       "      <th>V5</th>\n",
       "      <th>V6</th>\n",
       "      <th>V7</th>\n",
       "      <th>V8</th>\n",
       "      <th>V9</th>\n",
       "      <th>V10</th>\n",
       "      <th>...</th>\n",
       "      <th>V52</th>\n",
       "      <th>V53</th>\n",
       "      <th>V54</th>\n",
       "      <th>V55</th>\n",
       "      <th>V56</th>\n",
       "      <th>V57</th>\n",
       "      <th>V58</th>\n",
       "      <th>V59</th>\n",
       "      <th>V60</th>\n",
       "      <th>Y</th>\n",
       "    </tr>\n",
       "  </thead>\n",
       "  <tbody>\n",
       "    <tr>\n",
       "      <th>0</th>\n",
       "      <td>0.0200</td>\n",
       "      <td>0.0371</td>\n",
       "      <td>0.0428</td>\n",
       "      <td>0.0207</td>\n",
       "      <td>0.0954</td>\n",
       "      <td>0.0986</td>\n",
       "      <td>0.1539</td>\n",
       "      <td>0.1601</td>\n",
       "      <td>0.3109</td>\n",
       "      <td>0.2111</td>\n",
       "      <td>...</td>\n",
       "      <td>0.0027</td>\n",
       "      <td>0.0065</td>\n",
       "      <td>0.0159</td>\n",
       "      <td>0.0072</td>\n",
       "      <td>0.0167</td>\n",
       "      <td>0.0180</td>\n",
       "      <td>0.0084</td>\n",
       "      <td>0.0090</td>\n",
       "      <td>0.0032</td>\n",
       "      <td>R</td>\n",
       "    </tr>\n",
       "    <tr>\n",
       "      <th>1</th>\n",
       "      <td>0.0453</td>\n",
       "      <td>0.0523</td>\n",
       "      <td>0.0843</td>\n",
       "      <td>0.0689</td>\n",
       "      <td>0.1183</td>\n",
       "      <td>0.2583</td>\n",
       "      <td>0.2156</td>\n",
       "      <td>0.3481</td>\n",
       "      <td>0.3337</td>\n",
       "      <td>0.2872</td>\n",
       "      <td>...</td>\n",
       "      <td>0.0084</td>\n",
       "      <td>0.0089</td>\n",
       "      <td>0.0048</td>\n",
       "      <td>0.0094</td>\n",
       "      <td>0.0191</td>\n",
       "      <td>0.0140</td>\n",
       "      <td>0.0049</td>\n",
       "      <td>0.0052</td>\n",
       "      <td>0.0044</td>\n",
       "      <td>R</td>\n",
       "    </tr>\n",
       "    <tr>\n",
       "      <th>2</th>\n",
       "      <td>0.0262</td>\n",
       "      <td>0.0582</td>\n",
       "      <td>0.1099</td>\n",
       "      <td>0.1083</td>\n",
       "      <td>0.0974</td>\n",
       "      <td>0.2280</td>\n",
       "      <td>0.2431</td>\n",
       "      <td>0.3771</td>\n",
       "      <td>0.5598</td>\n",
       "      <td>0.6194</td>\n",
       "      <td>...</td>\n",
       "      <td>0.0232</td>\n",
       "      <td>0.0166</td>\n",
       "      <td>0.0095</td>\n",
       "      <td>0.0180</td>\n",
       "      <td>0.0244</td>\n",
       "      <td>0.0316</td>\n",
       "      <td>0.0164</td>\n",
       "      <td>0.0095</td>\n",
       "      <td>0.0078</td>\n",
       "      <td>R</td>\n",
       "    </tr>\n",
       "    <tr>\n",
       "      <th>3</th>\n",
       "      <td>0.0100</td>\n",
       "      <td>0.0171</td>\n",
       "      <td>0.0623</td>\n",
       "      <td>0.0205</td>\n",
       "      <td>0.0205</td>\n",
       "      <td>0.0368</td>\n",
       "      <td>0.1098</td>\n",
       "      <td>0.1276</td>\n",
       "      <td>0.0598</td>\n",
       "      <td>0.1264</td>\n",
       "      <td>...</td>\n",
       "      <td>0.0121</td>\n",
       "      <td>0.0036</td>\n",
       "      <td>0.0150</td>\n",
       "      <td>0.0085</td>\n",
       "      <td>0.0073</td>\n",
       "      <td>0.0050</td>\n",
       "      <td>0.0044</td>\n",
       "      <td>0.0040</td>\n",
       "      <td>0.0117</td>\n",
       "      <td>R</td>\n",
       "    </tr>\n",
       "    <tr>\n",
       "      <th>4</th>\n",
       "      <td>0.0762</td>\n",
       "      <td>0.0666</td>\n",
       "      <td>0.0481</td>\n",
       "      <td>0.0394</td>\n",
       "      <td>0.0590</td>\n",
       "      <td>0.0649</td>\n",
       "      <td>0.1209</td>\n",
       "      <td>0.2467</td>\n",
       "      <td>0.3564</td>\n",
       "      <td>0.4459</td>\n",
       "      <td>...</td>\n",
       "      <td>0.0031</td>\n",
       "      <td>0.0054</td>\n",
       "      <td>0.0105</td>\n",
       "      <td>0.0110</td>\n",
       "      <td>0.0015</td>\n",
       "      <td>0.0072</td>\n",
       "      <td>0.0048</td>\n",
       "      <td>0.0107</td>\n",
       "      <td>0.0094</td>\n",
       "      <td>R</td>\n",
       "    </tr>\n",
       "  </tbody>\n",
       "</table>\n",
       "<p>5 rows × 61 columns</p>\n",
       "</div>"
      ],
      "text/plain": [
       "       V1      V2      V3      V4      V5      V6      V7      V8      V9  \\\n",
       "0  0.0200  0.0371  0.0428  0.0207  0.0954  0.0986  0.1539  0.1601  0.3109   \n",
       "1  0.0453  0.0523  0.0843  0.0689  0.1183  0.2583  0.2156  0.3481  0.3337   \n",
       "2  0.0262  0.0582  0.1099  0.1083  0.0974  0.2280  0.2431  0.3771  0.5598   \n",
       "3  0.0100  0.0171  0.0623  0.0205  0.0205  0.0368  0.1098  0.1276  0.0598   \n",
       "4  0.0762  0.0666  0.0481  0.0394  0.0590  0.0649  0.1209  0.2467  0.3564   \n",
       "\n",
       "      V10  ...     V52     V53     V54     V55     V56     V57     V58  \\\n",
       "0  0.2111  ...  0.0027  0.0065  0.0159  0.0072  0.0167  0.0180  0.0084   \n",
       "1  0.2872  ...  0.0084  0.0089  0.0048  0.0094  0.0191  0.0140  0.0049   \n",
       "2  0.6194  ...  0.0232  0.0166  0.0095  0.0180  0.0244  0.0316  0.0164   \n",
       "3  0.1264  ...  0.0121  0.0036  0.0150  0.0085  0.0073  0.0050  0.0044   \n",
       "4  0.4459  ...  0.0031  0.0054  0.0105  0.0110  0.0015  0.0072  0.0048   \n",
       "\n",
       "      V59     V60  Y  \n",
       "0  0.0090  0.0032  R  \n",
       "1  0.0052  0.0044  R  \n",
       "2  0.0095  0.0078  R  \n",
       "3  0.0040  0.0117  R  \n",
       "4  0.0107  0.0094  R  \n",
       "\n",
       "[5 rows x 61 columns]"
      ]
     },
     "execution_count": 29,
     "metadata": {},
     "output_type": "execute_result"
    }
   ],
   "source": [
    "import pandas as pd\n",
    "import requests\n",
    "import io\n",
    "from sklearn.model_selection import train_test_split\n",
    "import graphviz as gv\n",
    "from sklearn import tree\n",
    "from sklearn.metrics import accuracy_score\n",
    "from sklearn.model_selection import GridSearchCV\n",
    "import matplotlib.pylab as plt \n",
    "from sklearn.ensemble import BaggingClassifier,RandomForestClassifier, AdaBoostClassifier\n",
    "from sklearn.metrics import confusion_matrix, roc_curve, roc_auc_score\n",
    "import seaborn as sns\n",
    "\n",
    "url = 'https://raw.githubusercontent.com/jimmyhm/BigData2021-1/master/16-Tarea/sonar.csv'\n",
    "\n",
    "download = requests.get(url).content\n",
    "\n",
    "\n",
    "df = pd.read_csv(io.StringIO(download.decode('utf-8')))\n",
    "\n",
    "#Veamos la cabecera de nuestro df\n",
    "df.head()"
   ]
  },
  {
   "cell_type": "code",
   "execution_count": 2,
   "metadata": {},
   "outputs": [
    {
     "data": {
      "text/plain": [
       "(208, 61)"
      ]
     },
     "metadata": {},
     "output_type": "display_data"
    },
    {
     "data": {
      "text/plain": [
       "Index(['V1', 'V2', 'V3', 'V4', 'V5', 'V6', 'V7', 'V8', 'V9', 'V10', 'V11',\n",
       "       'V12', 'V13', 'V14', 'V15', 'V16', 'V17', 'V18', 'V19', 'V20', 'V21',\n",
       "       'V22', 'V23', 'V24', 'V25', 'V26', 'V27', 'V28', 'V29', 'V30', 'V31',\n",
       "       'V32', 'V33', 'V34', 'V35', 'V36', 'V37', 'V38', 'V39', 'V40', 'V41',\n",
       "       'V42', 'V43', 'V44', 'V45', 'V46', 'V47', 'V48', 'V49', 'V50', 'V51',\n",
       "       'V52', 'V53', 'V54', 'V55', 'V56', 'V57', 'V58', 'V59', 'V60', 'Y'],\n",
       "      dtype='object')"
      ]
     },
     "metadata": {},
     "output_type": "display_data"
    },
    {
     "name": "stdout",
     "output_type": "stream",
     "text": [
      "<class 'pandas.core.frame.DataFrame'>\n",
      "RangeIndex: 208 entries, 0 to 207\n",
      "Data columns (total 61 columns):\n",
      " #   Column  Non-Null Count  Dtype  \n",
      "---  ------  --------------  -----  \n",
      " 0   V1      208 non-null    float64\n",
      " 1   V2      208 non-null    float64\n",
      " 2   V3      208 non-null    float64\n",
      " 3   V4      208 non-null    float64\n",
      " 4   V5      208 non-null    float64\n",
      " 5   V6      208 non-null    float64\n",
      " 6   V7      208 non-null    float64\n",
      " 7   V8      208 non-null    float64\n",
      " 8   V9      208 non-null    float64\n",
      " 9   V10     208 non-null    float64\n",
      " 10  V11     208 non-null    float64\n",
      " 11  V12     208 non-null    float64\n",
      " 12  V13     208 non-null    float64\n",
      " 13  V14     208 non-null    float64\n",
      " 14  V15     208 non-null    float64\n",
      " 15  V16     208 non-null    float64\n",
      " 16  V17     208 non-null    float64\n",
      " 17  V18     208 non-null    float64\n",
      " 18  V19     208 non-null    float64\n",
      " 19  V20     208 non-null    float64\n",
      " 20  V21     208 non-null    float64\n",
      " 21  V22     208 non-null    float64\n",
      " 22  V23     208 non-null    float64\n",
      " 23  V24     208 non-null    float64\n",
      " 24  V25     208 non-null    float64\n",
      " 25  V26     208 non-null    float64\n",
      " 26  V27     208 non-null    float64\n",
      " 27  V28     208 non-null    float64\n",
      " 28  V29     208 non-null    float64\n",
      " 29  V30     208 non-null    float64\n",
      " 30  V31     208 non-null    float64\n",
      " 31  V32     208 non-null    float64\n",
      " 32  V33     208 non-null    float64\n",
      " 33  V34     208 non-null    float64\n",
      " 34  V35     208 non-null    float64\n",
      " 35  V36     208 non-null    float64\n",
      " 36  V37     208 non-null    float64\n",
      " 37  V38     208 non-null    float64\n",
      " 38  V39     208 non-null    float64\n",
      " 39  V40     208 non-null    float64\n",
      " 40  V41     208 non-null    float64\n",
      " 41  V42     208 non-null    float64\n",
      " 42  V43     208 non-null    float64\n",
      " 43  V44     208 non-null    float64\n",
      " 44  V45     208 non-null    float64\n",
      " 45  V46     208 non-null    float64\n",
      " 46  V47     208 non-null    float64\n",
      " 47  V48     208 non-null    float64\n",
      " 48  V49     208 non-null    float64\n",
      " 49  V50     208 non-null    float64\n",
      " 50  V51     208 non-null    float64\n",
      " 51  V52     208 non-null    float64\n",
      " 52  V53     208 non-null    float64\n",
      " 53  V54     208 non-null    float64\n",
      " 54  V55     208 non-null    float64\n",
      " 55  V56     208 non-null    float64\n",
      " 56  V57     208 non-null    float64\n",
      " 57  V58     208 non-null    float64\n",
      " 58  V59     208 non-null    float64\n",
      " 59  V60     208 non-null    float64\n",
      " 60  Y       208 non-null    object \n",
      "dtypes: float64(60), object(1)\n",
      "memory usage: 99.2+ KB\n"
     ]
    }
   ],
   "source": [
    "#Veamos el tamaño de nuestro df\n",
    "display(df.shape)\n",
    "\n",
    "#Veamos como se llaman cada columna\n",
    "display(df.columns)\n",
    "\n",
    "#Veamos el tipo de cada columna\n",
    "df.info()"
   ]
  },
  {
   "cell_type": "markdown",
   "metadata": {},
   "source": [
    "Gracias a df.info, podemos ver que nuestro dataframe no tiene NaN's"
   ]
  },
  {
   "cell_type": "markdown",
   "metadata": {},
   "source": [
    "Al parecer nuestro df esta limpio y listo para hacer un analisis."
   ]
  },
  {
   "cell_type": "code",
   "execution_count": 3,
   "metadata": {},
   "outputs": [
    {
     "name": "stdout",
     "output_type": "stream",
     "text": [
      "Total de Minas y Rocas\n",
      "M    111\n",
      "R     97\n",
      "Name: Y, dtype: int64\n"
     ]
    }
   ],
   "source": [
    "#Rectificamos que existan 111 minas y 97 rocas\n",
    "print('Total de Minas y Rocas')\n",
    "print(pd.value_counts(df['Y']))"
   ]
  },
  {
   "cell_type": "code",
   "execution_count": 4,
   "metadata": {},
   "outputs": [],
   "source": [
    "#Preparamos nuestra data para poder realizar el arbol\n",
    "y = df.pop('Y')\n",
    "X = df\n",
    "X_train, X_test, y_train, y_test = train_test_split(X, y, test_size=0.30, random_state=42)"
   ]
  },
  {
   "cell_type": "code",
   "execution_count": 5,
   "metadata": {},
   "outputs": [
    {
     "name": "stdout",
     "output_type": "stream",
     "text": [
      "Total de Minas y Rocas\n",
      "M    76\n",
      "R    69\n",
      "Name: Y, dtype: int64\n"
     ]
    }
   ],
   "source": [
    "#Veamos con cuantos datos de la columna Y nos quedamos para entrenar el modelo.\n",
    "print('Total de Minas y Rocas')\n",
    "print(pd.value_counts(y_train))"
   ]
  },
  {
   "cell_type": "markdown",
   "metadata": {},
   "source": [
    "Estamos listos para crear nuestro árbol de clasificacion con nuestro df."
   ]
  },
  {
   "cell_type": "code",
   "execution_count": 6,
   "metadata": {},
   "outputs": [],
   "source": [
    "#Haremos uso de DecisionTreeClassifier para crear nuestro árbol\n",
    "#Usaremos una profundida de 7 y unas 6 hojas maximo\n",
    "arbol = tree.DecisionTreeClassifier(criterion = \"gini\", max_depth = 7, max_leaf_nodes = 6)\n",
    "\n",
    "#Ajustamos nuestro modelo con la data de entrenamiento\n",
    "arbol_aj = arbol.fit(X_train, y_train)"
   ]
  },
  {
   "cell_type": "code",
   "execution_count": 7,
   "metadata": {},
   "outputs": [
    {
     "data": {
      "image/svg+xml": [
       "<?xml version=\"1.0\" encoding=\"UTF-8\" standalone=\"no\"?>\r\n",
       "<!DOCTYPE svg PUBLIC \"-//W3C//DTD SVG 1.1//EN\"\r\n",
       " \"http://www.w3.org/Graphics/SVG/1.1/DTD/svg11.dtd\">\r\n",
       "<!-- Generated by graphviz version 2.38.0 (20140413.2041)\r\n",
       " -->\r\n",
       "<!-- Title: Tree Pages: 1 -->\r\n",
       "<svg width=\"475pt\" height=\"477pt\"\r\n",
       " viewBox=\"0.00 0.00 475.00 477.00\" xmlns=\"http://www.w3.org/2000/svg\" xmlns:xlink=\"http://www.w3.org/1999/xlink\">\r\n",
       "<g id=\"graph0\" class=\"graph\" transform=\"scale(1 1) rotate(0) translate(4 473)\">\r\n",
       "<title>Tree</title>\r\n",
       "<polygon fill=\"white\" stroke=\"none\" points=\"-4,4 -4,-473 471,-473 471,4 -4,4\"/>\r\n",
       "<!-- 0 -->\r\n",
       "<g id=\"node1\" class=\"node\"><title>0</title>\r\n",
       "<path fill=\"#fdf3ed\" stroke=\"black\" d=\"M206,-469C206,-469 117,-469 117,-469 111,-469 105,-463 105,-457 105,-457 105,-413 105,-413 105,-407 111,-401 117,-401 117,-401 206,-401 206,-401 212,-401 218,-407 218,-413 218,-413 218,-457 218,-457 218,-463 212,-469 206,-469\"/>\r\n",
       "<text text-anchor=\"start\" x=\"122\" y=\"-453.8\" font-family=\"Helvetica,sans-Serif\" font-size=\"14.00\">V12 ≤ 0.196</text>\r\n",
       "<text text-anchor=\"start\" x=\"124\" y=\"-438.8\" font-family=\"Helvetica,sans-Serif\" font-size=\"14.00\">gini = 0.499</text>\r\n",
       "<text text-anchor=\"start\" x=\"114\" y=\"-423.8\" font-family=\"Helvetica,sans-Serif\" font-size=\"14.00\">samples = 145</text>\r\n",
       "<text text-anchor=\"start\" x=\"113\" y=\"-408.8\" font-family=\"Helvetica,sans-Serif\" font-size=\"14.00\">value = [76, 69]</text>\r\n",
       "</g>\r\n",
       "<!-- 1 -->\r\n",
       "<g id=\"node2\" class=\"node\"><title>1</title>\r\n",
       "<path fill=\"#60b0ea\" stroke=\"black\" d=\"M139,-357.5C139,-357.5 58,-357.5 58,-357.5 52,-357.5 46,-351.5 46,-345.5 46,-345.5 46,-316.5 46,-316.5 46,-310.5 52,-304.5 58,-304.5 58,-304.5 139,-304.5 139,-304.5 145,-304.5 151,-310.5 151,-316.5 151,-316.5 151,-345.5 151,-345.5 151,-351.5 145,-357.5 139,-357.5\"/>\r\n",
       "<text text-anchor=\"start\" x=\"61\" y=\"-342.3\" font-family=\"Helvetica,sans-Serif\" font-size=\"14.00\">gini = 0.274</text>\r\n",
       "<text text-anchor=\"start\" x=\"55\" y=\"-327.3\" font-family=\"Helvetica,sans-Serif\" font-size=\"14.00\">samples = 55</text>\r\n",
       "<text text-anchor=\"start\" x=\"54\" y=\"-312.3\" font-family=\"Helvetica,sans-Serif\" font-size=\"14.00\">value = [9, 46]</text>\r\n",
       "</g>\r\n",
       "<!-- 0&#45;&gt;1 -->\r\n",
       "<g id=\"edge1\" class=\"edge\"><title>0&#45;&gt;1</title>\r\n",
       "<path fill=\"none\" stroke=\"black\" d=\"M141.046,-400.884C134.185,-389.776 126.524,-377.372 119.614,-366.184\"/>\r\n",
       "<polygon fill=\"black\" stroke=\"black\" points=\"122.495,-364.189 114.262,-357.52 116.539,-367.867 122.495,-364.189\"/>\r\n",
       "<text text-anchor=\"middle\" x=\"108.512\" y=\"-378.15\" font-family=\"Helvetica,sans-Serif\" font-size=\"14.00\">True</text>\r\n",
       "</g>\r\n",
       "<!-- 2 -->\r\n",
       "<g id=\"node3\" class=\"node\"><title>2</title>\r\n",
       "<path fill=\"#eeac7d\" stroke=\"black\" d=\"M270,-365C270,-365 181,-365 181,-365 175,-365 169,-359 169,-353 169,-353 169,-309 169,-309 169,-303 175,-297 181,-297 181,-297 270,-297 270,-297 276,-297 282,-303 282,-309 282,-309 282,-353 282,-353 282,-359 276,-365 270,-365\"/>\r\n",
       "<text text-anchor=\"start\" x=\"190.5\" y=\"-349.8\" font-family=\"Helvetica,sans-Serif\" font-size=\"14.00\">V9 ≤ 0.101</text>\r\n",
       "<text text-anchor=\"start\" x=\"192\" y=\"-334.8\" font-family=\"Helvetica,sans-Serif\" font-size=\"14.00\">gini = 0.38</text>\r\n",
       "<text text-anchor=\"start\" x=\"182\" y=\"-319.8\" font-family=\"Helvetica,sans-Serif\" font-size=\"14.00\">samples = 90</text>\r\n",
       "<text text-anchor=\"start\" x=\"177\" y=\"-304.8\" font-family=\"Helvetica,sans-Serif\" font-size=\"14.00\">value = [67, 23]</text>\r\n",
       "</g>\r\n",
       "<!-- 0&#45;&gt;2 -->\r\n",
       "<g id=\"edge2\" class=\"edge\"><title>0&#45;&gt;2</title>\r\n",
       "<path fill=\"none\" stroke=\"black\" d=\"M182.279,-400.884C187.7,-392.243 193.613,-382.819 199.277,-373.793\"/>\r\n",
       "<polygon fill=\"black\" stroke=\"black\" points=\"202.256,-375.63 204.606,-365.299 196.327,-371.91 202.256,-375.63\"/>\r\n",
       "<text text-anchor=\"middle\" x=\"210.185\" y=\"-385.969\" font-family=\"Helvetica,sans-Serif\" font-size=\"14.00\">False</text>\r\n",
       "</g>\r\n",
       "<!-- 3 -->\r\n",
       "<g id=\"node4\" class=\"node\"><title>3</title>\r\n",
       "<path fill=\"#91c9f1\" stroke=\"black\" d=\"M202,-261C202,-261 123,-261 123,-261 117,-261 111,-255 111,-249 111,-249 111,-205 111,-205 111,-199 117,-193 123,-193 123,-193 202,-193 202,-193 208,-193 214,-199 214,-205 214,-205 214,-249 214,-249 214,-255 208,-261 202,-261\"/>\r\n",
       "<text text-anchor=\"start\" x=\"123\" y=\"-245.8\" font-family=\"Helvetica,sans-Serif\" font-size=\"14.00\">V31 ≤ 0.387</text>\r\n",
       "<text text-anchor=\"start\" x=\"125\" y=\"-230.8\" font-family=\"Helvetica,sans-Serif\" font-size=\"14.00\">gini = 0.426</text>\r\n",
       "<text text-anchor=\"start\" x=\"119\" y=\"-215.8\" font-family=\"Helvetica,sans-Serif\" font-size=\"14.00\">samples = 13</text>\r\n",
       "<text text-anchor=\"start\" x=\"122\" y=\"-200.8\" font-family=\"Helvetica,sans-Serif\" font-size=\"14.00\">value = [4, 9]</text>\r\n",
       "</g>\r\n",
       "<!-- 2&#45;&gt;3 -->\r\n",
       "<g id=\"edge3\" class=\"edge\"><title>2&#45;&gt;3</title>\r\n",
       "<path fill=\"none\" stroke=\"black\" d=\"M205.046,-296.884C199.764,-288.332 194.008,-279.013 188.486,-270.072\"/>\r\n",
       "<polygon fill=\"black\" stroke=\"black\" points=\"191.3,-267.968 183.067,-261.299 185.344,-271.647 191.3,-267.968\"/>\r\n",
       "</g>\r\n",
       "<!-- 4 -->\r\n",
       "<g id=\"node7\" class=\"node\"><title>4</title>\r\n",
       "<path fill=\"#eb9d65\" stroke=\"black\" d=\"M333,-261C333,-261 244,-261 244,-261 238,-261 232,-255 232,-249 232,-249 232,-205 232,-205 232,-199 238,-193 244,-193 244,-193 333,-193 333,-193 339,-193 345,-199 345,-205 345,-205 345,-249 345,-249 345,-255 339,-261 333,-261\"/>\r\n",
       "<text text-anchor=\"start\" x=\"249\" y=\"-245.8\" font-family=\"Helvetica,sans-Serif\" font-size=\"14.00\">V27 ≤ 0.715</text>\r\n",
       "<text text-anchor=\"start\" x=\"251\" y=\"-230.8\" font-family=\"Helvetica,sans-Serif\" font-size=\"14.00\">gini = 0.298</text>\r\n",
       "<text text-anchor=\"start\" x=\"245\" y=\"-215.8\" font-family=\"Helvetica,sans-Serif\" font-size=\"14.00\">samples = 77</text>\r\n",
       "<text text-anchor=\"start\" x=\"240\" y=\"-200.8\" font-family=\"Helvetica,sans-Serif\" font-size=\"14.00\">value = [63, 14]</text>\r\n",
       "</g>\r\n",
       "<!-- 2&#45;&gt;4 -->\r\n",
       "<g id=\"edge6\" class=\"edge\"><title>2&#45;&gt;4</title>\r\n",
       "<path fill=\"none\" stroke=\"black\" d=\"M245.954,-296.884C251.236,-288.332 256.992,-279.013 262.514,-270.072\"/>\r\n",
       "<polygon fill=\"black\" stroke=\"black\" points=\"265.656,-271.647 267.933,-261.299 259.7,-267.968 265.656,-271.647\"/>\r\n",
       "</g>\r\n",
       "<!-- 5 -->\r\n",
       "<g id=\"node5\" class=\"node\"><title>5</title>\r\n",
       "<path fill=\"#e58139\" stroke=\"black\" d=\"M85,-149.5C85,-149.5 12,-149.5 12,-149.5 6,-149.5 0,-143.5 0,-137.5 0,-137.5 0,-108.5 0,-108.5 0,-102.5 6,-96.5 12,-96.5 12,-96.5 85,-96.5 85,-96.5 91,-96.5 97,-102.5 97,-108.5 97,-108.5 97,-137.5 97,-137.5 97,-143.5 91,-149.5 85,-149.5\"/>\r\n",
       "<text text-anchor=\"start\" x=\"19.5\" y=\"-134.3\" font-family=\"Helvetica,sans-Serif\" font-size=\"14.00\">gini = 0.0</text>\r\n",
       "<text text-anchor=\"start\" x=\"9\" y=\"-119.3\" font-family=\"Helvetica,sans-Serif\" font-size=\"14.00\">samples = 4</text>\r\n",
       "<text text-anchor=\"start\" x=\"8\" y=\"-104.3\" font-family=\"Helvetica,sans-Serif\" font-size=\"14.00\">value = [4, 0]</text>\r\n",
       "</g>\r\n",
       "<!-- 3&#45;&gt;5 -->\r\n",
       "<g id=\"edge4\" class=\"edge\"><title>3&#45;&gt;5</title>\r\n",
       "<path fill=\"none\" stroke=\"black\" d=\"M125.487,-192.884C112.335,-181.116 97.5575,-167.894 84.492,-156.203\"/>\r\n",
       "<polygon fill=\"black\" stroke=\"black\" points=\"86.8085,-153.58 77.0223,-149.52 82.1409,-158.796 86.8085,-153.58\"/>\r\n",
       "</g>\r\n",
       "<!-- 6 -->\r\n",
       "<g id=\"node6\" class=\"node\"><title>6</title>\r\n",
       "<path fill=\"#399de5\" stroke=\"black\" d=\"M200,-149.5C200,-149.5 127,-149.5 127,-149.5 121,-149.5 115,-143.5 115,-137.5 115,-137.5 115,-108.5 115,-108.5 115,-102.5 121,-96.5 127,-96.5 127,-96.5 200,-96.5 200,-96.5 206,-96.5 212,-102.5 212,-108.5 212,-108.5 212,-137.5 212,-137.5 212,-143.5 206,-149.5 200,-149.5\"/>\r\n",
       "<text text-anchor=\"start\" x=\"134.5\" y=\"-134.3\" font-family=\"Helvetica,sans-Serif\" font-size=\"14.00\">gini = 0.0</text>\r\n",
       "<text text-anchor=\"start\" x=\"124\" y=\"-119.3\" font-family=\"Helvetica,sans-Serif\" font-size=\"14.00\">samples = 9</text>\r\n",
       "<text text-anchor=\"start\" x=\"123\" y=\"-104.3\" font-family=\"Helvetica,sans-Serif\" font-size=\"14.00\">value = [0, 9]</text>\r\n",
       "</g>\r\n",
       "<!-- 3&#45;&gt;6 -->\r\n",
       "<g id=\"edge5\" class=\"edge\"><title>3&#45;&gt;6</title>\r\n",
       "<path fill=\"none\" stroke=\"black\" d=\"M162.825,-192.884C162.928,-182.326 163.043,-170.597 163.148,-159.854\"/>\r\n",
       "<polygon fill=\"black\" stroke=\"black\" points=\"166.652,-159.554 163.25,-149.52 159.652,-159.485 166.652,-159.554\"/>\r\n",
       "</g>\r\n",
       "<!-- 7 -->\r\n",
       "<g id=\"node8\" class=\"node\"><title>7</title>\r\n",
       "<path fill=\"#f6d3ba\" stroke=\"black\" d=\"M332,-157C332,-157 243,-157 243,-157 237,-157 231,-151 231,-145 231,-145 231,-101 231,-101 231,-95 237,-89 243,-89 243,-89 332,-89 332,-89 338,-89 344,-95 344,-101 344,-101 344,-145 344,-145 344,-151 338,-157 332,-157\"/>\r\n",
       "<text text-anchor=\"start\" x=\"248\" y=\"-141.8\" font-family=\"Helvetica,sans-Serif\" font-size=\"14.00\">V43 ≤ 0.238</text>\r\n",
       "<text text-anchor=\"start\" x=\"250\" y=\"-126.8\" font-family=\"Helvetica,sans-Serif\" font-size=\"14.00\">gini = 0.478</text>\r\n",
       "<text text-anchor=\"start\" x=\"244\" y=\"-111.8\" font-family=\"Helvetica,sans-Serif\" font-size=\"14.00\">samples = 33</text>\r\n",
       "<text text-anchor=\"start\" x=\"239\" y=\"-96.8\" font-family=\"Helvetica,sans-Serif\" font-size=\"14.00\">value = [20, 13]</text>\r\n",
       "</g>\r\n",
       "<!-- 4&#45;&gt;7 -->\r\n",
       "<g id=\"edge7\" class=\"edge\"><title>4&#45;&gt;7</title>\r\n",
       "<path fill=\"none\" stroke=\"black\" d=\"M288.175,-192.884C288.096,-184.778 288.01,-175.982 287.926,-167.472\"/>\r\n",
       "<polygon fill=\"black\" stroke=\"black\" points=\"291.424,-167.265 287.826,-157.299 284.425,-167.333 291.424,-167.265\"/>\r\n",
       "</g>\r\n",
       "<!-- 8 -->\r\n",
       "<g id=\"node11\" class=\"node\"><title>8</title>\r\n",
       "<path fill=\"#e6843e\" stroke=\"black\" d=\"M455,-149.5C455,-149.5 374,-149.5 374,-149.5 368,-149.5 362,-143.5 362,-137.5 362,-137.5 362,-108.5 362,-108.5 362,-102.5 368,-96.5 374,-96.5 374,-96.5 455,-96.5 455,-96.5 461,-96.5 467,-102.5 467,-108.5 467,-108.5 467,-137.5 467,-137.5 467,-143.5 461,-149.5 455,-149.5\"/>\r\n",
       "<text text-anchor=\"start\" x=\"377\" y=\"-134.3\" font-family=\"Helvetica,sans-Serif\" font-size=\"14.00\">gini = 0.044</text>\r\n",
       "<text text-anchor=\"start\" x=\"371\" y=\"-119.3\" font-family=\"Helvetica,sans-Serif\" font-size=\"14.00\">samples = 44</text>\r\n",
       "<text text-anchor=\"start\" x=\"370\" y=\"-104.3\" font-family=\"Helvetica,sans-Serif\" font-size=\"14.00\">value = [43, 1]</text>\r\n",
       "</g>\r\n",
       "<!-- 4&#45;&gt;8 -->\r\n",
       "<g id=\"edge10\" class=\"edge\"><title>4&#45;&gt;8</title>\r\n",
       "<path fill=\"none\" stroke=\"black\" d=\"M329.409,-192.884C344.081,-181.006 360.584,-167.646 375.124,-155.876\"/>\r\n",
       "<polygon fill=\"black\" stroke=\"black\" points=\"377.405,-158.532 382.975,-149.52 373.001,-153.092 377.405,-158.532\"/>\r\n",
       "</g>\r\n",
       "<!-- 9 -->\r\n",
       "<g id=\"node9\" class=\"node\"><title>9</title>\r\n",
       "<path fill=\"#7bbeee\" stroke=\"black\" d=\"M266,-53C266,-53 185,-53 185,-53 179,-53 173,-47 173,-41 173,-41 173,-12 173,-12 173,-6 179,-0 185,-0 185,-0 266,-0 266,-0 272,-0 278,-6 278,-12 278,-12 278,-41 278,-41 278,-47 272,-53 266,-53\"/>\r\n",
       "<text text-anchor=\"start\" x=\"188\" y=\"-37.8\" font-family=\"Helvetica,sans-Serif\" font-size=\"14.00\">gini = 0.375</text>\r\n",
       "<text text-anchor=\"start\" x=\"182\" y=\"-22.8\" font-family=\"Helvetica,sans-Serif\" font-size=\"14.00\">samples = 16</text>\r\n",
       "<text text-anchor=\"start\" x=\"181\" y=\"-7.8\" font-family=\"Helvetica,sans-Serif\" font-size=\"14.00\">value = [4, 12]</text>\r\n",
       "</g>\r\n",
       "<!-- 7&#45;&gt;9 -->\r\n",
       "<g id=\"edge8\" class=\"edge\"><title>7&#45;&gt;9</title>\r\n",
       "<path fill=\"none\" stroke=\"black\" d=\"M265.815,-88.9485C260.054,-80.1664 253.819,-70.6629 248.014,-61.815\"/>\r\n",
       "<polygon fill=\"black\" stroke=\"black\" points=\"250.797,-59.6779 242.385,-53.2367 244.945,-63.5178 250.797,-59.6779\"/>\r\n",
       "</g>\r\n",
       "<!-- 10 -->\r\n",
       "<g id=\"node10\" class=\"node\"><title>10</title>\r\n",
       "<path fill=\"#e78945\" stroke=\"black\" d=\"M389,-53C389,-53 308,-53 308,-53 302,-53 296,-47 296,-41 296,-41 296,-12 296,-12 296,-6 302,-0 308,-0 308,-0 389,-0 389,-0 395,-0 401,-6 401,-12 401,-12 401,-41 401,-41 401,-47 395,-53 389,-53\"/>\r\n",
       "<text text-anchor=\"start\" x=\"311\" y=\"-37.8\" font-family=\"Helvetica,sans-Serif\" font-size=\"14.00\">gini = 0.111</text>\r\n",
       "<text text-anchor=\"start\" x=\"305\" y=\"-22.8\" font-family=\"Helvetica,sans-Serif\" font-size=\"14.00\">samples = 17</text>\r\n",
       "<text text-anchor=\"start\" x=\"304\" y=\"-7.8\" font-family=\"Helvetica,sans-Serif\" font-size=\"14.00\">value = [16, 1]</text>\r\n",
       "</g>\r\n",
       "<!-- 7&#45;&gt;10 -->\r\n",
       "<g id=\"edge9\" class=\"edge\"><title>7&#45;&gt;10</title>\r\n",
       "<path fill=\"none\" stroke=\"black\" d=\"M308.835,-88.9485C314.504,-80.1664 320.638,-70.6629 326.35,-61.815\"/>\r\n",
       "<polygon fill=\"black\" stroke=\"black\" points=\"329.404,-63.5365 331.887,-53.2367 323.523,-59.7402 329.404,-63.5365\"/>\r\n",
       "</g>\r\n",
       "</g>\r\n",
       "</svg>\r\n"
      ],
      "text/plain": [
       "<graphviz.files.Source at 0x225a88071f0>"
      ]
     },
     "execution_count": 7,
     "metadata": {},
     "output_type": "execute_result"
    }
   ],
   "source": [
    "#Gráficamos nuestro árbol para darnos una idea de como se veria\n",
    "dot_data = tree.export_graphviz(arbol_aj, out_file=None,\n",
    "                     feature_names=X_train.columns,  \n",
    "                     \n",
    "                     filled=True, rounded=True,  \n",
    "                     special_characters=True)  \n",
    "graph = gv.Source(dot_data)  \n",
    "graph"
   ]
  },
  {
   "cell_type": "code",
   "execution_count": 8,
   "metadata": {},
   "outputs": [
    {
     "name": "stdout",
     "output_type": "stream",
     "text": [
      "Proporcion de datos bien clasificados\n",
      "0.7142857142857143\n",
      "Número de datos bien clasificados\n",
      "45\n"
     ]
    }
   ],
   "source": [
    "#Aplicamos una predicción a nustra variable de respuesta\n",
    "y_pred = arbol_aj.predict(X_test)\n",
    "print('Proporcion de datos bien clasificados')\n",
    "print(accuracy_score(y_test,y_pred))\n",
    "print('Número de datos bien clasificados')\n",
    "print(accuracy_score(y_test, y_pred, normalize=False))"
   ]
  },
  {
   "cell_type": "markdown",
   "metadata": {},
   "source": [
    "Ahora haremos una optimización de hiperparametros para 'max_depth', 'max_leaf_nodes' y 'criterion'"
   ]
  },
  {
   "cell_type": "code",
   "execution_count": 9,
   "metadata": {},
   "outputs": [
    {
     "data": {
      "text/plain": [
       "GridSearchCV(estimator=DecisionTreeClassifier(),\n",
       "             param_grid={'criterion': ['gini', 'entropy'],\n",
       "                         'max_depth': [5, 6, 7, 8, 9, 10],\n",
       "                         'max_leaf_nodes': [4, 5, 6, 7, 8, 9, 10, 11, 12, 13,\n",
       "                                            14, 15, 16, 17, 18, 19, 20, 21, 22,\n",
       "                                            23, 24]},\n",
       "             scoring='accuracy')"
      ]
     },
     "execution_count": 9,
     "metadata": {},
     "output_type": "execute_result"
    }
   ],
   "source": [
    "param_grid = {\n",
    "    'max_depth' : [5,6,7,8,9,10],\n",
    "    'max_leaf_nodes' : [i for i in range(4,25,1)],\n",
    "    'criterion':[\"gini\", \"entropy\"]\n",
    "}\n",
    "modelo = GridSearchCV(tree.DecisionTreeClassifier(), param_grid, scoring = 'accuracy')\n",
    "modelo.fit(X_train, y_train)"
   ]
  },
  {
   "cell_type": "code",
   "execution_count": 10,
   "metadata": {},
   "outputs": [
    {
     "name": "stdout",
     "output_type": "stream",
     "text": [
      "Puntaje del modelo: 0.714\n",
      "Hiperparametros:  {'criterion': 'gini', 'max_depth': 6, 'max_leaf_nodes': 16}\n"
     ]
    }
   ],
   "source": [
    "print(\"Puntaje del modelo: %.3f\" % modelo.score(X_test, y_test))\n",
    "print (\"Hiperparametros: \", str(modelo.best_params_))"
   ]
  },
  {
   "cell_type": "markdown",
   "metadata": {},
   "source": [
    "Gracias GridSearchCV y a .best_params podemos apreciar que teniendo a 'gini' como criterio, una profundidad de 6 y un maximo de 16 hojas, obtenemos el mejor puntaje (que es de 0.71) para toda la lista de parametros que dimos. Claro, podriamos mejorar el puntaje colocando una lista un tanto mas grande."
   ]
  },
  {
   "cell_type": "markdown",
   "metadata": {},
   "source": [
    "Ahora se realizara un análisis costo complejidad"
   ]
  },
  {
   "cell_type": "code",
   "execution_count": 11,
   "metadata": {},
   "outputs": [],
   "source": [
    "path = arbol.cost_complexity_pruning_path(X_train, y_train)\n",
    "ccp_alphas, impurities = path.ccp_alphas, path.impurities"
   ]
  },
  {
   "cell_type": "code",
   "execution_count": 12,
   "metadata": {},
   "outputs": [
    {
     "data": {
      "text/plain": [
       "Text(0.5, 1.0, 'Impureza vs Effective_alpha')"
      ]
     },
     "execution_count": 12,
     "metadata": {},
     "output_type": "execute_result"
    },
    {
     "data": {
      "image/png": "[encoded data removed]",
      "text/plain": [
       "<Figure size 432x288 with 1 Axes>"
      ]
     },
     "metadata": {
      "needs_background": "light"
     },
     "output_type": "display_data"
    }
   ],
   "source": [
    "#Graficamos impureza vs ccp_alpha \n",
    "fig, ax = plt.subplots()\n",
    "ax.plot(ccp_alphas[:-1], impurities[:-1], marker='o', drawstyle=\"steps-post\")\n",
    "ax.set_xlabel(\"Effective_alpha\")\n",
    "ax.set_ylabel(\"Total de impureza\")\n",
    "ax.set_title(\"Impureza vs Effective_alpha\")"
   ]
  },
  {
   "cell_type": "code",
   "execution_count": 13,
   "metadata": {},
   "outputs": [
    {
     "name": "stdout",
     "output_type": "stream",
     "text": [
      "Numero de hojas(nodos) en el ultimo arbol es: 3 con ccp_alpha: 0.15884168678461175\n"
     ]
    }
   ],
   "source": [
    "# ccp alpha vs número de hojas en el árbol\n",
    "modelos = []\n",
    "for ccp_alpha in ccp_alphas:\n",
    "    mod = tree.DecisionTreeClassifier(random_state=0, ccp_alpha = ccp_alpha)\n",
    "    mod.fit(X_train, y_train)\n",
    "    modelos.append(mod)\n",
    "print(\"Numero de hojas(nodos) en el ultimo arbol es: {} con ccp_alpha: {}\".format(\n",
    "      modelos[-1].tree_.node_count, ccp_alphas[-1]))"
   ]
  },
  {
   "cell_type": "code",
   "execution_count": 14,
   "metadata": {},
   "outputs": [
    {
     "data": {
      "text/plain": [
       "Text(0.5, 1.0, 'Numero de nodos vs Alpha')"
      ]
     },
     "execution_count": 14,
     "metadata": {},
     "output_type": "execute_result"
    },
    {
     "data": {
      "image/png": "[encoded data removed]",
      "text/plain": [
       "<Figure size 432x288 with 1 Axes>"
      ]
     },
     "metadata": {
      "needs_background": "light"
     },
     "output_type": "display_data"
    }
   ],
   "source": [
    "modelos = modelos[:-1]\n",
    "ccp_alphas = ccp_alphas[:-1]\n",
    "\n",
    "#Graficaremos primero numero de nodos vs ccp alpha\n",
    "conteo_nodos = [mod.tree_.node_count for mod in modelos]\n",
    "depth = [mod.tree_.max_depth for mod in modelos]\n",
    "fig, ax = plt.subplots()\n",
    "ax.plot(ccp_alphas, conteo_nodos, marker='o', drawstyle=\"steps-post\")\n",
    "ax.set_xlabel(\"Alpha\")\n",
    "ax.set_ylabel(\"Numero de nodos\")\n",
    "ax.set_title(\"Numero de nodos vs Alpha\")"
   ]
  },
  {
   "cell_type": "markdown",
   "metadata": {},
   "source": [
    "Ahora, graficaremos nuestras ccp_alhpa vs el accuracy en las muestras de prueba"
   ]
  },
  {
   "cell_type": "code",
   "execution_count": 15,
   "metadata": {},
   "outputs": [
    {
     "data": {
      "image/png": "[encoded data removed]",
      "text/plain": [
       "<Figure size 432x288 with 1 Axes>"
      ]
     },
     "metadata": {
      "needs_background": "light"
     },
     "output_type": "display_data"
    }
   ],
   "source": [
    "train_scores = [mod.score(X_train, y_train) for mod in modelos]\n",
    "test_scores = [mod.score(X_test, y_test) for mod in modelos]\n",
    "\n",
    "fig, ax = plt.subplots()\n",
    "ax.set_xlabel(\"Alpha\")\n",
    "ax.set_ylabel(\"Accuracy\")\n",
    "ax.set_title(\"Accuracy vs Alpha para datos de training y test\")\n",
    "ax.plot(ccp_alphas, train_scores, marker='o', label=\"train\",\n",
    "        drawstyle=\"steps-post\")\n",
    "ax.plot(ccp_alphas, test_scores, marker='o', label=\"test\",\n",
    "        drawstyle=\"steps-post\")\n",
    "ax.legend()\n",
    "plt.show()"
   ]
  },
  {
   "cell_type": "markdown",
   "metadata": {},
   "source": [
    "Podemos concluir que para nuestra muestra de entrenamiento, con un alpha del 0.04 nuestro accuracy es de 80%. Mientras que en la muestra de prueba con la misma alpha tenemos que baja hasta un %65, lo cual en el mundo real, es algo aceptable ya que dificilmente un modelo se acerca al 90%, inclusive al %95 aunque nuestro modelo podria mejorar."
   ]
  },
  {
   "cell_type": "markdown",
   "metadata": {},
   "source": [
    "Ahora ajustaremos los siguientes modelos para el mismo df.\n",
    "Primero un RandomForest"
   ]
  },
  {
   "cell_type": "code",
   "execution_count": 16,
   "metadata": {},
   "outputs": [
    {
     "name": "stdout",
     "output_type": "stream",
     "text": [
      "Proporcion de datos bien clasificados\n",
      "0.8571428571428571\n",
      "Datos bien clasificados\n",
      "54\n"
     ]
    }
   ],
   "source": [
    "randomForest = RandomForestClassifier(max_depth = 7, n_estimators = 100, random_state = 0)\n",
    "randomForest.fit(X_train, y_train)\n",
    "y_forest = randomForest.predict(X_test)\n",
    "\n",
    "print('Proporcion de datos bien clasificados')\n",
    "print(accuracy_score(y_test, y_forest))\n",
    "print('Datos bien clasificados')\n",
    "print(accuracy_score(y_test, y_forest, normalize=False))"
   ]
  },
  {
   "cell_type": "markdown",
   "metadata": {},
   "source": [
    "Ahora ajustamos un modelo Bagging"
   ]
  },
  {
   "cell_type": "code",
   "execution_count": 17,
   "metadata": {},
   "outputs": [
    {
     "data": {
      "text/plain": [
       "BaggingClassifier(base_estimator=DecisionTreeClassifier(max_depth=7,\n",
       "                                                        max_leaf_nodes=6),\n",
       "                  n_estimators=50, random_state=5)"
      ]
     },
     "execution_count": 17,
     "metadata": {},
     "output_type": "execute_result"
    }
   ],
   "source": [
    "#Usaremos una seed = 5\n",
    "seed = 5\n",
    "cart=tree.DecisionTreeClassifier(max_depth=7)\n",
    "\n",
    "#Y un total de 50 arboles\n",
    "n_trees = 50\n",
    "\n",
    "#Realizamos el modelo\n",
    "baggingModel = BaggingClassifier(base_estimator = arbol, n_estimators = n_trees, random_state=seed)\n",
    "baggingModel.fit(X_train, y_train)"
   ]
  },
  {
   "cell_type": "code",
   "execution_count": 18,
   "metadata": {},
   "outputs": [
    {
     "name": "stdout",
     "output_type": "stream",
     "text": [
      "Proporcion de datos bien clasificados\n",
      "0.7619047619047619\n",
      "Datos bien clasificados\n",
      "48\n"
     ]
    }
   ],
   "source": [
    "#Hacemos .predict sobre nuestro modelo en la muestra de entrenamiento\n",
    "y_bag = baggingModel.predict(X_test)\n",
    "print('Proporcion de datos bien clasificados')\n",
    "print(accuracy_score(y_test, y_bag))\n",
    "print('Datos bien clasificados')\n",
    "print(accuracy_score(y_test, y_bag, normalize=False))"
   ]
  },
  {
   "cell_type": "markdown",
   "metadata": {},
   "source": [
    "Por ultimo, ajustemos un modelo Boostrap"
   ]
  },
  {
   "cell_type": "code",
   "execution_count": 19,
   "metadata": {},
   "outputs": [
    {
     "data": {
      "text/plain": [
       "AdaBoostClassifier(base_estimator=DecisionTreeClassifier(max_depth=7,\n",
       "                                                         max_leaf_nodes=6),\n",
       "                   random_state=5)"
      ]
     },
     "execution_count": 19,
     "metadata": {},
     "output_type": "execute_result"
    }
   ],
   "source": [
    "boostingModel = AdaBoostClassifier(base_estimator = arbol, n_estimators = n_trees, random_state = seed)\n",
    "#Usaremos la misma seed al igual que el mismo numero de arboles que se usaron en el modelo Bagging\n",
    "boostingModel.fit(X_train, y_train)"
   ]
  },
  {
   "cell_type": "code",
   "execution_count": 20,
   "metadata": {},
   "outputs": [
    {
     "name": "stdout",
     "output_type": "stream",
     "text": [
      "Proporcion de datos bien clasificados\n",
      "0.8571428571428571\n",
      "Datos bien clasificados\n",
      "54\n"
     ]
    }
   ],
   "source": [
    "#Hacemos .predict sobre nuestro modelo en la muestra de entrenamiento\n",
    "y_boost = boostingModel.predict(X_test)\n",
    "print('Proporcion de datos bien clasificados')\n",
    "print(accuracy_score(y_test, y_boost))\n",
    "print('Datos bien clasificados')\n",
    "print(accuracy_score(y_test, y_boost, normalize=False))"
   ]
  },
  {
   "cell_type": "markdown",
   "metadata": {},
   "source": [
    "Finalmente, obtendremos la matriz de confusion de cada modelo asi como su curva ROC"
   ]
  },
  {
   "cell_type": "code",
   "execution_count": 23,
   "metadata": {},
   "outputs": [
    {
     "data": {
      "image/png": "[encoded data removed]",
      "text/plain": [
       "<Figure size 432x288 with 1 Axes>"
      ]
     },
     "metadata": {
      "needs_background": "light"
     },
     "output_type": "display_data"
    }
   ],
   "source": [
    "#Para nuestro arbol de clasificacion\n",
    "mc = confusion_matrix(y_test, y_pred)\n",
    "sns.heatmap(mc.T, square=True, annot=True, fmt='d', cbar=False)\n",
    "plt.xlabel('Valor verdadero')\n",
    "plt.ylabel('Valor predecido');"
   ]
  },
  {
   "cell_type": "code",
   "execution_count": 24,
   "metadata": {},
   "outputs": [
    {
     "data": {
      "image/png": "[encoded data removed]",
      "text/plain": [
       "<Figure size 432x288 with 1 Axes>"
      ]
     },
     "metadata": {
      "needs_background": "light"
     },
     "output_type": "display_data"
    }
   ],
   "source": [
    "#Para nuestro Random Forest\n",
    "mc = confusion_matrix(y_test, y_forest)\n",
    "sns.heatmap(mc.T, square=True, annot=True, fmt='d', cbar=False)\n",
    "plt.xlabel('Valor verdadero')\n",
    "plt.ylabel('Valor predecido');"
   ]
  },
  {
   "cell_type": "code",
   "execution_count": 25,
   "metadata": {},
   "outputs": [
    {
     "data": {
      "image/png": "[encoded data removed]",
      "text/plain": [
       "<Figure size 432x288 with 1 Axes>"
      ]
     },
     "metadata": {
      "needs_background": "light"
     },
     "output_type": "display_data"
    }
   ],
   "source": [
    "#Para nuestro Bagging\n",
    "mc = confusion_matrix(y_test, y_bag)\n",
    "sns.heatmap(mc.T, square=True, annot=True, fmt='d', cbar=False)\n",
    "plt.xlabel('Valor verdadero')\n",
    "plt.ylabel('Valor predecido');"
   ]
  },
  {
   "cell_type": "code",
   "execution_count": 26,
   "metadata": {},
   "outputs": [
    {
     "data": {
      "image/png": "[encoded data removed]",
      "text/plain": [
       "<Figure size 432x288 with 1 Axes>"
      ]
     },
     "metadata": {
      "needs_background": "light"
     },
     "output_type": "display_data"
    }
   ],
   "source": [
    "#Para nuestro Boostrap\n",
    "mc = confusion_matrix(y_test, y_boost)\n",
    "sns.heatmap(mc.T, square=True, annot=True, fmt='d', cbar=False)\n",
    "plt.xlabel('Valor verdadero')\n",
    "plt.ylabel('Valor predecido');"
   ]
  },
  {
   "cell_type": "code",
   "execution_count": 36,
   "metadata": {},
   "outputs": [
    {
     "data": {
      "text/html": [
       "<div>\n",
       "<style scoped>\n",
       "    .dataframe tbody tr th:only-of-type {\n",
       "        vertical-align: middle;\n",
       "    }\n",
       "\n",
       "    .dataframe tbody tr th {\n",
       "        vertical-align: top;\n",
       "    }\n",
       "\n",
       "    .dataframe thead th {\n",
       "        text-align: right;\n",
       "    }\n",
       "</style>\n",
       "<table border=\"1\" class=\"dataframe\">\n",
       "  <thead>\n",
       "    <tr style=\"text-align: right;\">\n",
       "      <th></th>\n",
       "      <th>M</th>\n",
       "      <th>R</th>\n",
       "    </tr>\n",
       "  </thead>\n",
       "  <tbody>\n",
       "    <tr>\n",
       "      <th>161</th>\n",
       "      <td>1</td>\n",
       "      <td>0</td>\n",
       "    </tr>\n",
       "    <tr>\n",
       "      <th>15</th>\n",
       "      <td>0</td>\n",
       "      <td>1</td>\n",
       "    </tr>\n",
       "    <tr>\n",
       "      <th>73</th>\n",
       "      <td>0</td>\n",
       "      <td>1</td>\n",
       "    </tr>\n",
       "    <tr>\n",
       "      <th>96</th>\n",
       "      <td>0</td>\n",
       "      <td>1</td>\n",
       "    </tr>\n",
       "    <tr>\n",
       "      <th>166</th>\n",
       "      <td>1</td>\n",
       "      <td>0</td>\n",
       "    </tr>\n",
       "    <tr>\n",
       "      <th>...</th>\n",
       "      <td>...</td>\n",
       "      <td>...</td>\n",
       "    </tr>\n",
       "    <tr>\n",
       "      <th>5</th>\n",
       "      <td>0</td>\n",
       "      <td>1</td>\n",
       "    </tr>\n",
       "    <tr>\n",
       "      <th>132</th>\n",
       "      <td>1</td>\n",
       "      <td>0</td>\n",
       "    </tr>\n",
       "    <tr>\n",
       "      <th>56</th>\n",
       "      <td>0</td>\n",
       "      <td>1</td>\n",
       "    </tr>\n",
       "    <tr>\n",
       "      <th>127</th>\n",
       "      <td>1</td>\n",
       "      <td>0</td>\n",
       "    </tr>\n",
       "    <tr>\n",
       "      <th>115</th>\n",
       "      <td>1</td>\n",
       "      <td>0</td>\n",
       "    </tr>\n",
       "  </tbody>\n",
       "</table>\n",
       "<p>63 rows × 2 columns</p>\n",
       "</div>"
      ],
      "text/plain": [
       "     M  R\n",
       "161  1  0\n",
       "15   0  1\n",
       "73   0  1\n",
       "96   0  1\n",
       "166  1  0\n",
       "..  .. ..\n",
       "5    0  1\n",
       "132  1  0\n",
       "56   0  1\n",
       "127  1  0\n",
       "115  1  0\n",
       "\n",
       "[63 rows x 2 columns]"
      ]
     },
     "execution_count": 36,
     "metadata": {},
     "output_type": "execute_result"
    }
   ],
   "source": [
    "pd.get_dummies(y_test)\n",
    "y_test"
   ]
  },
  {
   "cell_type": "code",
   "execution_count": 40,
   "metadata": {},
   "outputs": [
    {
     "data": {
      "image/png": "[encoded data removed]",
      "text/plain": [
       "<Figure size 720x720 with 1 Axes>"
      ]
     },
     "metadata": {
      "needs_background": "light"
     },
     "output_type": "display_data"
    },
    {
     "data": {
      "image/png": "[encoded data removed]",
      "text/plain": [
       "<Figure size 720x720 with 1 Axes>"
      ]
     },
     "metadata": {
      "needs_background": "light"
     },
     "output_type": "display_data"
    },
    {
     "data": {
      "image/png": "[encoded data removed]",
      "text/plain": [
       "<Figure size 720x720 with 1 Axes>"
      ]
     },
     "metadata": {
      "needs_background": "light"
     },
     "output_type": "display_data"
    },
    {
     "data": {
      "image/png": "[encoded data removed]",
      "text/plain": [
       "<Figure size 720x720 with 1 Axes>"
      ]
     },
     "metadata": {
      "needs_background": "light"
     },
     "output_type": "display_data"
    }
   ],
   "source": [
    "\n",
    "\n",
    "#Curvas ROC\n",
    "#Primero obtenemos las probabilidades\n",
    "y_score1 = arbol.predict_proba(X_test)[:,1]\n",
    "y_score2 = randomForest.predict_proba(X_test)[:,1]\n",
    "y_score3 = baggingModel.predict_proba(X_test)[:,1]\n",
    "y_score4 = boostingModel.predict_proba(X_test)[:,1] \n",
    "\n",
    "# Creamos las tasas de los verdaderos y falsos positivos\n",
    "tasa_falso_positivo1, tasa_verdadero_positivo1, threshold1 = roc_curve(y_test.values.argmax(axis=1), y_score1)\n",
    "tasa_falso_positivo2, tasa_verdadero_positivo2, threshold2 = roc_curve(y_test.values.argmax(axis=1), y_score2)\n",
    "tasa_falso_positivo3, tasa_verdadero_positivo3, threshold3 = roc_curve(y_test.values.argmax(axis=1), y_score3)\n",
    "tasa_falso_positivo4, tasa_verdadero_positivo4, threshold4 = roc_curve(y_test.values.argmax(axis=1), y_score4)\n",
    "\n",
    "\n",
    "plt.subplots(1, figsize=(10,10))\n",
    "plt.title('DecisionTree')\n",
    "plt.plot(tasa_falso_positivo1, tasa_verdadero_positivo1)\n",
    "plt.plot([0, 1], ls=\"--\")\n",
    "plt.plot([0, 0], [1, 0] , c=\".7\"), plt.plot([1, 1] , c=\".7\")\n",
    "plt.ylabel('Tasa Verdaderos Positivos')\n",
    "plt.xlabel('Tasa Falsos Positivos')\n",
    "plt.show()\n",
    "\n",
    "plt.subplots(1, figsize=(10,10))\n",
    "plt.title('Random Forest')\n",
    "plt.plot(tasa_falso_positivo2, tasa_verdadero_positivo2)\n",
    "plt.plot([0, 1], ls=\"--\")\n",
    "plt.plot([0, 0], [1, 0] , c=\".7\"), plt.plot([1, 1] , c=\".7\")\n",
    "plt.ylabel('Tasa Verdaderos Positivos')\n",
    "plt.xlabel('Tasa Falsos Positivos') \n",
    "plt.show()\n",
    "\n",
    "plt.subplots(1, figsize=(10,10))\n",
    "plt.title('Bagging')\n",
    "plt.plot(tasa_falso_positivo3, tasa_verdadero_positivo3, threshold3)\n",
    "plt.plot([0, 1], ls=\"--\")\n",
    "plt.plot([0, 0], [1, 0] , c=\".7\"), plt.plot([1, 1] , c=\".7\")\n",
    "plt.ylabel('Tasa Verdaderos Positivos')\n",
    "plt.xlabel('Tasa Falsos Positivos') \n",
    "plt.show()\n",
    "\n",
    "plt.subplots(1, figsize=(10,10))\n",
    "plt.title('Boosting')\n",
    "plt.plot(tasa_falso_positivo4, tasa_verdadero_positivo4)\n",
    "plt.plot([0, 1], ls=\"--\")\n",
    "plt.plot([0, 0], [1, 0] , c=\".7\"), plt.plot([1, 1] , c=\".7\")\n",
    "plt.ylabel('Tasa Verdaderos Positivos')\n",
    "plt.xlabel('Tasa Falsos Positivos') \n",
    "plt.show()"
   ]
  },
  {
   "cell_type": "code",
   "execution_count": null,
   "metadata": {},
   "outputs": [],
   "source": []
  }
 ],
 "metadata": {
  "kernelspec": {
   "display_name": "Python 3",
   "language": "python",
   "name": "python3"
  },
  "language_info": {
   "codemirror_mode": {
    "name": "ipython",
    "version": 3
   },
   "file_extension": ".py",
   "mimetype": "text/x-python",
   "name": "python",
   "nbconvert_exporter": "python",
   "pygments_lexer": "ipython3",
   "version": "3.8.5"
  }
 },
 "nbformat": 4,
 "nbformat_minor": 4
}
