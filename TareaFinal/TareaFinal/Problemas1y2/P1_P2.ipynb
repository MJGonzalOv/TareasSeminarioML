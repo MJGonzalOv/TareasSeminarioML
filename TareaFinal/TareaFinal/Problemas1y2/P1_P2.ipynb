{
 "cells": [
  {
   "cell_type": "markdown",
   "metadata": {},
   "source": [
    "\n",
    "<img src=\"classification.gif\" style=\"width: 300px\" align=\"center\">"
   ]
  },
  {
   "cell_type": "markdown",
   "metadata": {},
   "source": [
    "###   <font color=blue>***Autores:***</font> <font color=orange>Berenice Domínguez Sánchez, Jessica Huelgas Moreno, Carlos Rodrígo Pak López, Milton Jair González Ovando</font>   \n",
    "###  <font color=blue>***Fecha de elaboración:***</font> <font color=orange>3/febrero/2021</font>\n",
    "###  <font color=blue>***Fecha de última modificación:*** </font><font color=orange>9/febrero/2021</font>"
   ]
  },
  {
   "cell_type": "markdown",
   "metadata": {},
   "source": [
    "<h1 align=\"center\" style=\"background-color : #FFF5BA;\">Tarea Final</h1> "
   ]
  },
  {
   "cell_type": "markdown",
   "metadata": {},
   "source": [
    "<font color='green'> \n",
    "## 1. Con los datos del COVID hacer una selección de variables:\n",
    "&nbsp;\n",
    "\n",
    "- Utilizar el AIC con fordward, backward y stepwise.\n",
    "- Utilizar los criterios de BIC y Mallow CP.\n",
    "- Si tuviese que eliminar doa variables, ¿cuáles serían y por qué? </font>"
   ]
  },
  {
   "cell_type": "markdown",
   "metadata": {},
   "source": [
    "## Análisis previo \n",
    "\n",
    "Los métodos de selección permiten encontrar el mejor modelo a partir de las *k* variables explicativas que se tienen disponibles.\n",
    "\n",
    "## Desarrollo \n",
    "\n",
    "Los métodos de selección permiten encontrar el mejor modelo a partir de las *k* variables explicativas que se tienen disponibles.\n",
    "\n",
    "-**Regresión forward :** Inicia con un modelo sin variables explicativas y en cada paso agrega la variable explicativa más significativa. La mejor variable debe ser significatica con un valor *$\\alpha$* de entrada del *10%* con la *$R^2$* más alta. Finalmente se realizan tantos pasos como sea posible hasta que ya no es posible agregar más variables significativas.\n",
    "\n",
    "-**Regresión backward :** Inicia con un modelo que contiene todas las variables explicativas y en cada paso quita la variable explicativa menos significativa. Finalmente se realizan tantos pasos como sea posible hasta que ya no es posible eliminar más variables.\n",
    "\n",
    "-**Regresión Stepwise :** Esta regresión en una combinación de las dos anteriores. Inicia con un modelo sin variables explicativas y en cada paso agrega una variable explicativa significativa. El forward se aplica cuando encuentra una variable no sigificativa.\n",
    "[Referencia 1](https://essay.utwente.nl/76580/7/Master_Thesis_Perez_openbaar-12.pdf)\n",
    "\n",
    "Al aplicar estos tres métodos de regresión, el resultado puede arrojar tres modelos diferentes"
   ]
  },
  {
   "cell_type": "code",
   "execution_count": 5,
   "metadata": {},
   "outputs": [
    {
     "name": "stdout",
     "output_type": "stream",
     "text": [
      "Requirement already satisfied: mlxtend in c:\\users\\jhuel\\anaconda3\\lib\\site-packages (0.18.0)\n",
      "Requirement already satisfied: pandas>=0.24.2 in c:\\users\\jhuel\\anaconda3\\lib\\site-packages (from mlxtend) (0.24.2)\n",
      "Requirement already satisfied: setuptools in c:\\users\\jhuel\\anaconda3\\lib\\site-packages (from mlxtend) (41.0.1)\n",
      "Requirement already satisfied: joblib>=0.13.2 in c:\\users\\jhuel\\anaconda3\\lib\\site-packages (from mlxtend) (0.13.2)\n",
      "Requirement already satisfied: scipy>=1.2.1 in c:\\users\\jhuel\\anaconda3\\lib\\site-packages (from mlxtend) (1.4.1)\n",
      "Requirement already satisfied: matplotlib>=3.0.0 in c:\\users\\jhuel\\anaconda3\\lib\\site-packages (from mlxtend) (3.1.0)\n",
      "Requirement already satisfied: numpy>=1.16.2 in c:\\users\\jhuel\\anaconda3\\lib\\site-packages (from mlxtend) (1.16.4)\n",
      "Requirement already satisfied: scikit-learn>=0.20.3 in c:\\users\\jhuel\\anaconda3\\lib\\site-packages (from mlxtend) (0.21.2)\n",
      "Requirement already satisfied: python-dateutil>=2.5.0 in c:\\users\\jhuel\\anaconda3\\lib\\site-packages (from pandas>=0.24.2->mlxtend) (2.8.0)\n",
      "Requirement already satisfied: pytz>=2011k in c:\\users\\jhuel\\anaconda3\\lib\\site-packages (from pandas>=0.24.2->mlxtend) (2019.1)\n",
      "Requirement already satisfied: cycler>=0.10 in c:\\users\\jhuel\\anaconda3\\lib\\site-packages (from matplotlib>=3.0.0->mlxtend) (0.10.0)\n",
      "Requirement already satisfied: kiwisolver>=1.0.1 in c:\\users\\jhuel\\anaconda3\\lib\\site-packages (from matplotlib>=3.0.0->mlxtend) (1.1.0)\n",
      "Requirement already satisfied: pyparsing!=2.0.4,!=2.1.2,!=2.1.6,>=2.0.1 in c:\\users\\jhuel\\anaconda3\\lib\\site-packages (from matplotlib>=3.0.0->mlxtend) (2.4.0)\n",
      "Requirement already satisfied: six>=1.5 in c:\\users\\jhuel\\anaconda3\\lib\\site-packages (from python-dateutil>=2.5.0->pandas>=0.24.2->mlxtend) (1.12.0)\n"
     ]
    }
   ],
   "source": [
    "!pip install mlxtend"
   ]
  },
  {
   "cell_type": "code",
   "execution_count": 6,
   "metadata": {},
   "outputs": [],
   "source": [
    "import numpy as np\n",
    "import pandas as pd\n",
    "import seaborn as sns\n",
    "import matplotlib.pyplot as plt\n",
    "%matplotlib inline"
   ]
  },
  {
   "cell_type": "code",
   "execution_count": 7,
   "metadata": {},
   "outputs": [],
   "source": [
    "from sklearn.model_selection import train_test_split\n",
    "from sklearn.ensemble import RandomForestRegressor, RandomForestClassifier\n",
    "from sklearn.metrics import roc_auc_score\n",
    "from mlxtend.feature_selection import SequentialFeatureSelector as SFS\n"
   ]
  },
  {
   "cell_type": "code",
   "execution_count": 8,
   "metadata": {},
   "outputs": [
    {
     "data": {
      "text/plain": [
       "'C:\\\\Users\\\\jhuel\\\\Desktop\\\\DataBricks'"
      ]
     },
     "execution_count": 8,
     "metadata": {},
     "output_type": "execute_result"
    }
   ],
   "source": [
    "pwd"
   ]
  },
  {
   "cell_type": "code",
   "execution_count": 9,
   "metadata": {},
   "outputs": [],
   "source": [
    "data = pd.read_csv(\"covid.csv\")"
   ]
  },
  {
   "cell_type": "code",
   "execution_count": 10,
   "metadata": {},
   "outputs": [
    {
     "data": {
      "text/html": [
       "<div>\n",
       "<style scoped>\n",
       "    .dataframe tbody tr th:only-of-type {\n",
       "        vertical-align: middle;\n",
       "    }\n",
       "\n",
       "    .dataframe tbody tr th {\n",
       "        vertical-align: top;\n",
       "    }\n",
       "\n",
       "    .dataframe thead th {\n",
       "        text-align: right;\n",
       "    }\n",
       "</style>\n",
       "<table border=\"1\" class=\"dataframe\">\n",
       "  <thead>\n",
       "    <tr style=\"text-align: right;\">\n",
       "      <th></th>\n",
       "      <th>Unnamed: 0</th>\n",
       "      <th>SEXO</th>\n",
       "      <th>OBESIDAD</th>\n",
       "      <th>DIABETES</th>\n",
       "      <th>EPOC</th>\n",
       "      <th>ASMA</th>\n",
       "      <th>CARDIOVASCULAR</th>\n",
       "      <th>RENAL CRONICA</th>\n",
       "      <th>INMUNOSUPRESION</th>\n",
       "      <th>HIPERTENSION</th>\n",
       "      <th>TIPO PACIENTE</th>\n",
       "      <th>EDAD</th>\n",
       "    </tr>\n",
       "  </thead>\n",
       "  <tbody>\n",
       "    <tr>\n",
       "      <th>0</th>\n",
       "      <td>0</td>\n",
       "      <td>MUJER</td>\n",
       "      <td>NO</td>\n",
       "      <td>NO</td>\n",
       "      <td>NO</td>\n",
       "      <td>NO</td>\n",
       "      <td>NO</td>\n",
       "      <td>NO</td>\n",
       "      <td>NO</td>\n",
       "      <td>NO</td>\n",
       "      <td>AMBULATORIO</td>\n",
       "      <td>51</td>\n",
       "    </tr>\n",
       "    <tr>\n",
       "      <th>1</th>\n",
       "      <td>1</td>\n",
       "      <td>MUJER</td>\n",
       "      <td>NO</td>\n",
       "      <td>NO</td>\n",
       "      <td>NO</td>\n",
       "      <td>NO</td>\n",
       "      <td>NO</td>\n",
       "      <td>NO</td>\n",
       "      <td>NO</td>\n",
       "      <td>NO</td>\n",
       "      <td>AMBULATORIO</td>\n",
       "      <td>37</td>\n",
       "    </tr>\n",
       "    <tr>\n",
       "      <th>2</th>\n",
       "      <td>2</td>\n",
       "      <td>HOMBRE</td>\n",
       "      <td>NO</td>\n",
       "      <td>NO</td>\n",
       "      <td>NO</td>\n",
       "      <td>NO</td>\n",
       "      <td>NO</td>\n",
       "      <td>NO</td>\n",
       "      <td>NO</td>\n",
       "      <td>NO</td>\n",
       "      <td>AMBULATORIO</td>\n",
       "      <td>18</td>\n",
       "    </tr>\n",
       "    <tr>\n",
       "      <th>3</th>\n",
       "      <td>3</td>\n",
       "      <td>HOMBRE</td>\n",
       "      <td>NO</td>\n",
       "      <td>NO</td>\n",
       "      <td>NO</td>\n",
       "      <td>NO</td>\n",
       "      <td>NO</td>\n",
       "      <td>NO</td>\n",
       "      <td>NO</td>\n",
       "      <td>NO</td>\n",
       "      <td>AMBULATORIO</td>\n",
       "      <td>40</td>\n",
       "    </tr>\n",
       "    <tr>\n",
       "      <th>4</th>\n",
       "      <td>4</td>\n",
       "      <td>MUJER</td>\n",
       "      <td>NO</td>\n",
       "      <td>SI</td>\n",
       "      <td>NO</td>\n",
       "      <td>NO</td>\n",
       "      <td>NO</td>\n",
       "      <td>SI</td>\n",
       "      <td>NO</td>\n",
       "      <td>SI</td>\n",
       "      <td>HOSPITALIZADO</td>\n",
       "      <td>78</td>\n",
       "    </tr>\n",
       "  </tbody>\n",
       "</table>\n",
       "</div>"
      ],
      "text/plain": [
       "   Unnamed: 0    SEXO OBESIDAD DIABETES EPOC ASMA CARDIOVASCULAR  \\\n",
       "0           0   MUJER       NO       NO   NO   NO             NO   \n",
       "1           1   MUJER       NO       NO   NO   NO             NO   \n",
       "2           2  HOMBRE       NO       NO   NO   NO             NO   \n",
       "3           3  HOMBRE       NO       NO   NO   NO             NO   \n",
       "4           4   MUJER       NO       SI   NO   NO             NO   \n",
       "\n",
       "  RENAL CRONICA INMUNOSUPRESION HIPERTENSION  TIPO PACIENTE  EDAD  \n",
       "0            NO              NO           NO    AMBULATORIO    51  \n",
       "1            NO              NO           NO    AMBULATORIO    37  \n",
       "2            NO              NO           NO    AMBULATORIO    18  \n",
       "3            NO              NO           NO    AMBULATORIO    40  \n",
       "4            SI              NO           SI  HOSPITALIZADO    78  "
      ]
     },
     "execution_count": 10,
     "metadata": {},
     "output_type": "execute_result"
    }
   ],
   "source": [
    "data.head()"
   ]
  },
  {
   "cell_type": "code",
   "execution_count": 11,
   "metadata": {},
   "outputs": [
    {
     "data": {
      "text/plain": [
       "Index(['Unnamed: 0', 'SEXO', 'OBESIDAD', 'DIABETES', 'EPOC', 'ASMA',\n",
       "       'CARDIOVASCULAR', 'RENAL CRONICA', 'INMUNOSUPRESION', 'HIPERTENSION',\n",
       "       'TIPO PACIENTE', 'EDAD'],\n",
       "      dtype='object')"
      ]
     },
     "execution_count": 11,
     "metadata": {},
     "output_type": "execute_result"
    }
   ],
   "source": [
    "data.keys()"
   ]
  },
  {
   "cell_type": "code",
   "execution_count": 12,
   "metadata": {},
   "outputs": [
    {
     "name": "stdout",
     "output_type": "stream",
     "text": [
      "<bound method NDFrame.describe of         Unnamed: 0    SEXO OBESIDAD DIABETES EPOC ASMA CARDIOVASCULAR  \\\n",
      "0                0   MUJER       NO       NO   NO   NO             NO   \n",
      "1                1   MUJER       NO       NO   NO   NO             NO   \n",
      "2                2  HOMBRE       NO       NO   NO   NO             NO   \n",
      "3                3  HOMBRE       NO       NO   NO   NO             NO   \n",
      "4                4   MUJER       NO       SI   NO   NO             NO   \n",
      "5                5  HOMBRE       NO       NO   NO   NO             NO   \n",
      "6                6   MUJER       NO       NO   NO   NO             NO   \n",
      "7                7  HOMBRE       NO       NO   NO   NO             NO   \n",
      "8                8   MUJER       NO       NO   NO   NO             NO   \n",
      "9                9  HOMBRE       NO       NO   NO   NO             NO   \n",
      "10              10  HOMBRE       NO       NO   NO   NO             NO   \n",
      "11              11  HOMBRE       NO       NO   NO   NO             NO   \n",
      "12              12   MUJER       NO       NO   NO   NO             NO   \n",
      "13              13  HOMBRE       NO       NO   NO   NO             NO   \n",
      "14              14  HOMBRE       NO       NO   NO   NO             NO   \n",
      "15              15   MUJER       NO       SI   NO   NO             NO   \n",
      "16              16  HOMBRE       NO       NO   NO   NO             NO   \n",
      "17              17  HOMBRE       NO       NO   NO   NO             NO   \n",
      "18              18   MUJER       SI       NO   NO   NO             NO   \n",
      "19              19  HOMBRE       NO       SI   NO   NO             NO   \n",
      "20              20   MUJER       SI       NO   NO   NO             NO   \n",
      "21              21  HOMBRE       NO       NO   NO   NO             NO   \n",
      "22              22  HOMBRE       NO       NO   NO   NO             NO   \n",
      "23              23   MUJER       NO       NO   NO   NO             NO   \n",
      "24              24  HOMBRE       SI       SI   NO   NO             NO   \n",
      "25              25   MUJER       SI       SI   NO   NO             NO   \n",
      "26              26  HOMBRE       NO       NO   NO   NO             NO   \n",
      "27              27  HOMBRE       SI       NO   NO   NO             NO   \n",
      "28              28   MUJER       SI       NO   NO   NO             NO   \n",
      "29              29  HOMBRE       NO       NO   NO   NO             NO   \n",
      "...            ...     ...      ...      ...  ...  ...            ...   \n",
      "347472      827920  HOMBRE       SI       NO   NO   NO             NO   \n",
      "347473      827921   MUJER       NO       NO   NO   NO             NO   \n",
      "347474      827922  HOMBRE       SI       NO   NO   NO             NO   \n",
      "347475      827923   MUJER       NO       NO   NO   NO             NO   \n",
      "347476      827924   MUJER       SI       NO   NO   NO             NO   \n",
      "347477      827925  HOMBRE       NO       NO   NO   NO             NO   \n",
      "347478      827926  HOMBRE       NO       NO   SI   NO             SI   \n",
      "347479      827927   MUJER       NO       NO   NO   NO             NO   \n",
      "347480      827928   MUJER       NO       SI   NO   NO             NO   \n",
      "347481      827929  HOMBRE       SI       NO   NO   NO             NO   \n",
      "347482      827930  HOMBRE       SI       NO   NO   NO             NO   \n",
      "347483      827931   MUJER       NO       NO   NO   NO             NO   \n",
      "347484      827932  HOMBRE       NO       NO   NO   SI             NO   \n",
      "347485      827933  HOMBRE       NO       NO   NO   NO             NO   \n",
      "347486      827934   MUJER       NO       NO   NO   NO             NO   \n",
      "347487      827935  HOMBRE       NO       NO   NO   NO             NO   \n",
      "347488      827936   MUJER       NO       NO   NO   NO             NO   \n",
      "347489      827937  HOMBRE       SI       NO   NO   NO             NO   \n",
      "347490      827938   MUJER       NO       SI   NO   NO             NO   \n",
      "347491      827939  HOMBRE       NO       NO   NO   NO             NO   \n",
      "347492      827940   MUJER       NO       NO   NO   NO             NO   \n",
      "347493      827941  HOMBRE       NO       NO   NO   NO             NO   \n",
      "347494      827942   MUJER       SI       NO   NO   NO             NO   \n",
      "347495      827943   MUJER       NO       SI   NO   NO             NO   \n",
      "347496      827944  HOMBRE       NO       NO   NO   NO             NO   \n",
      "347497      827945  HOMBRE       NO       NO   NO   NO             NO   \n",
      "347498      827946   MUJER       NO       NO   NO   NO             NO   \n",
      "347499      827948  HOMBRE       SI       NO   NO   NO             NO   \n",
      "347500      827949   MUJER       NO       NO   NO   NO             NO   \n",
      "347501      827950  HOMBRE       NO       NO   NO   NO             NO   \n",
      "\n",
      "       RENAL CRONICA INMUNOSUPRESION HIPERTENSION  TIPO PACIENTE  EDAD  \n",
      "0                 NO              NO           NO    AMBULATORIO    51  \n",
      "1                 NO              NO           NO    AMBULATORIO    37  \n",
      "2                 NO              NO           NO    AMBULATORIO    18  \n",
      "3                 NO              NO           NO    AMBULATORIO    40  \n",
      "4                 SI              NO           SI  HOSPITALIZADO    78  \n",
      "5                 NO              NO           NO    AMBULATORIO    67  \n",
      "6                 NO              NO           NO    AMBULATORIO     8  \n",
      "7                 NO              NO           NO    AMBULATORIO    38  \n",
      "8                 NO              NO           NO    AMBULATORIO    31  \n",
      "9                 NO              NO           NO    AMBULATORIO    32  \n",
      "10                NO              NO           NO  HOSPITALIZADO    34  \n",
      "11                NO              NO           NO  HOSPITALIZADO    52  \n",
      "12                NO              NO           NO    AMBULATORIO    25  \n",
      "13                SI              NO           SI  HOSPITALIZADO    27  \n",
      "14                NO              NO           NO    AMBULATORIO    81  \n",
      "15                NO              NO           NO    AMBULATORIO    49  \n",
      "16                NO              NO           NO  HOSPITALIZADO    42  \n",
      "17                NO              NO           NO  HOSPITALIZADO    63  \n",
      "18                NO              NO           NO    AMBULATORIO    25  \n",
      "19                NO              NO           SI  HOSPITALIZADO    58  \n",
      "20                NO              NO           NO    AMBULATORIO    29  \n",
      "21                NO              NO           SI    AMBULATORIO    24  \n",
      "22                NO              NO           NO  HOSPITALIZADO    58  \n",
      "23                NO              NO           NO    AMBULATORIO    57  \n",
      "24                NO              NO           SI    AMBULATORIO    54  \n",
      "25                NO              SI           SI    AMBULATORIO    63  \n",
      "26                NO              NO           NO  HOSPITALIZADO    43  \n",
      "27                NO              NO           NO  HOSPITALIZADO    42  \n",
      "28                NO              NO           NO    AMBULATORIO    56  \n",
      "29                NO              NO           NO    AMBULATORIO    55  \n",
      "...              ...             ...          ...            ...   ...  \n",
      "347472            NO              NO           SI    AMBULATORIO    36  \n",
      "347473            NO              NO           NO    AMBULATORIO    39  \n",
      "347474            NO              NO           NO    AMBULATORIO    38  \n",
      "347475            NO              NO           NO    AMBULATORIO    48  \n",
      "347476            NO              NO           SI    AMBULATORIO    37  \n",
      "347477            NO              NO           NO    AMBULATORIO    35  \n",
      "347478            NO              SI           NO    AMBULATORIO    70  \n",
      "347479            NO              NO           NO    AMBULATORIO    48  \n",
      "347480            NO              NO           NO    AMBULATORIO    47  \n",
      "347481            NO              NO           SI    AMBULATORIO    36  \n",
      "347482            NO              NO           NO    AMBULATORIO    30  \n",
      "347483            NO              NO           NO    AMBULATORIO    48  \n",
      "347484            NO              NO           NO    AMBULATORIO    51  \n",
      "347485            NO              NO           NO    AMBULATORIO    27  \n",
      "347486            NO              NO           NO    AMBULATORIO    30  \n",
      "347487            NO              NO           NO    AMBULATORIO    40  \n",
      "347488            NO              NO           NO    AMBULATORIO    20  \n",
      "347489            NO              NO           NO    AMBULATORIO    54  \n",
      "347490            NO              NO           NO    AMBULATORIO    46  \n",
      "347491            NO              NO           NO    AMBULATORIO    40  \n",
      "347492            NO              NO           NO    AMBULATORIO    57  \n",
      "347493            NO              NO           NO    AMBULATORIO    53  \n",
      "347494            NO              NO           NO    AMBULATORIO    30  \n",
      "347495            NO              NO           SI    AMBULATORIO    63  \n",
      "347496            NO              NO           NO    AMBULATORIO    38  \n",
      "347497            NO              NO           NO    AMBULATORIO     9  \n",
      "347498            NO              NO           NO    AMBULATORIO    35  \n",
      "347499            NO              NO           SI    AMBULATORIO    57  \n",
      "347500            NO              NO           SI    AMBULATORIO    71  \n",
      "347501            NO              NO           NO    AMBULATORIO    25  \n",
      "\n",
      "[347502 rows x 12 columns]>\n"
     ]
    }
   ],
   "source": [
    "print(data.describe)"
   ]
  },
  {
   "cell_type": "code",
   "execution_count": 13,
   "metadata": {},
   "outputs": [
    {
     "data": {
      "text/plain": [
       "Unnamed: 0          int64\n",
       "SEXO               object\n",
       "OBESIDAD           object\n",
       "DIABETES           object\n",
       "EPOC               object\n",
       "ASMA               object\n",
       "CARDIOVASCULAR     object\n",
       "RENAL CRONICA      object\n",
       "INMUNOSUPRESION    object\n",
       "HIPERTENSION       object\n",
       "TIPO PACIENTE      object\n",
       "EDAD                int64\n",
       "dtype: object"
      ]
     },
     "execution_count": 13,
     "metadata": {},
     "output_type": "execute_result"
    }
   ],
   "source": [
    "data.dtypes"
   ]
  },
  {
   "cell_type": "code",
   "execution_count": 14,
   "metadata": {},
   "outputs": [],
   "source": [
    "subdf = data[['SEXO', 'OBESIDAD', 'DIABETES', 'EPOC', 'ASMA',\n",
    "       'CARDIOVASCULAR', 'RENAL CRONICA', 'INMUNOSUPRESION', 'HIPERTENSION',\n",
    "       'TIPO PACIENTE', 'EDAD']]"
   ]
  },
  {
   "cell_type": "code",
   "execution_count": 15,
   "metadata": {
    "scrolled": true
   },
   "outputs": [
    {
     "data": {
      "text/html": [
       "<div>\n",
       "<style scoped>\n",
       "    .dataframe tbody tr th:only-of-type {\n",
       "        vertical-align: middle;\n",
       "    }\n",
       "\n",
       "    .dataframe tbody tr th {\n",
       "        vertical-align: top;\n",
       "    }\n",
       "\n",
       "    .dataframe thead th {\n",
       "        text-align: right;\n",
       "    }\n",
       "</style>\n",
       "<table border=\"1\" class=\"dataframe\">\n",
       "  <thead>\n",
       "    <tr style=\"text-align: right;\">\n",
       "      <th></th>\n",
       "      <th>SEXO</th>\n",
       "      <th>OBESIDAD</th>\n",
       "      <th>DIABETES</th>\n",
       "      <th>EPOC</th>\n",
       "      <th>ASMA</th>\n",
       "      <th>CARDIOVASCULAR</th>\n",
       "      <th>RENAL CRONICA</th>\n",
       "      <th>INMUNOSUPRESION</th>\n",
       "      <th>HIPERTENSION</th>\n",
       "      <th>TIPO PACIENTE</th>\n",
       "      <th>EDAD</th>\n",
       "    </tr>\n",
       "  </thead>\n",
       "  <tbody>\n",
       "    <tr>\n",
       "      <th>0</th>\n",
       "      <td>MUJER</td>\n",
       "      <td>NO</td>\n",
       "      <td>NO</td>\n",
       "      <td>NO</td>\n",
       "      <td>NO</td>\n",
       "      <td>NO</td>\n",
       "      <td>NO</td>\n",
       "      <td>NO</td>\n",
       "      <td>NO</td>\n",
       "      <td>AMBULATORIO</td>\n",
       "      <td>51</td>\n",
       "    </tr>\n",
       "    <tr>\n",
       "      <th>1</th>\n",
       "      <td>MUJER</td>\n",
       "      <td>NO</td>\n",
       "      <td>NO</td>\n",
       "      <td>NO</td>\n",
       "      <td>NO</td>\n",
       "      <td>NO</td>\n",
       "      <td>NO</td>\n",
       "      <td>NO</td>\n",
       "      <td>NO</td>\n",
       "      <td>AMBULATORIO</td>\n",
       "      <td>37</td>\n",
       "    </tr>\n",
       "    <tr>\n",
       "      <th>2</th>\n",
       "      <td>HOMBRE</td>\n",
       "      <td>NO</td>\n",
       "      <td>NO</td>\n",
       "      <td>NO</td>\n",
       "      <td>NO</td>\n",
       "      <td>NO</td>\n",
       "      <td>NO</td>\n",
       "      <td>NO</td>\n",
       "      <td>NO</td>\n",
       "      <td>AMBULATORIO</td>\n",
       "      <td>18</td>\n",
       "    </tr>\n",
       "    <tr>\n",
       "      <th>3</th>\n",
       "      <td>HOMBRE</td>\n",
       "      <td>NO</td>\n",
       "      <td>NO</td>\n",
       "      <td>NO</td>\n",
       "      <td>NO</td>\n",
       "      <td>NO</td>\n",
       "      <td>NO</td>\n",
       "      <td>NO</td>\n",
       "      <td>NO</td>\n",
       "      <td>AMBULATORIO</td>\n",
       "      <td>40</td>\n",
       "    </tr>\n",
       "    <tr>\n",
       "      <th>4</th>\n",
       "      <td>MUJER</td>\n",
       "      <td>NO</td>\n",
       "      <td>SI</td>\n",
       "      <td>NO</td>\n",
       "      <td>NO</td>\n",
       "      <td>NO</td>\n",
       "      <td>SI</td>\n",
       "      <td>NO</td>\n",
       "      <td>SI</td>\n",
       "      <td>HOSPITALIZADO</td>\n",
       "      <td>78</td>\n",
       "    </tr>\n",
       "  </tbody>\n",
       "</table>\n",
       "</div>"
      ],
      "text/plain": [
       "     SEXO OBESIDAD DIABETES EPOC ASMA CARDIOVASCULAR RENAL CRONICA  \\\n",
       "0   MUJER       NO       NO   NO   NO             NO            NO   \n",
       "1   MUJER       NO       NO   NO   NO             NO            NO   \n",
       "2  HOMBRE       NO       NO   NO   NO             NO            NO   \n",
       "3  HOMBRE       NO       NO   NO   NO             NO            NO   \n",
       "4   MUJER       NO       SI   NO   NO             NO            SI   \n",
       "\n",
       "  INMUNOSUPRESION HIPERTENSION  TIPO PACIENTE  EDAD  \n",
       "0              NO           NO    AMBULATORIO    51  \n",
       "1              NO           NO    AMBULATORIO    37  \n",
       "2              NO           NO    AMBULATORIO    18  \n",
       "3              NO           NO    AMBULATORIO    40  \n",
       "4              NO           SI  HOSPITALIZADO    78  "
      ]
     },
     "execution_count": 15,
     "metadata": {},
     "output_type": "execute_result"
    }
   ],
   "source": [
    "subdf.head()"
   ]
  },
  {
   "cell_type": "code",
   "execution_count": 16,
   "metadata": {},
   "outputs": [
    {
     "name": "stdout",
     "output_type": "stream",
     "text": [
      "<class 'pandas.core.frame.DataFrame'>\n",
      "RangeIndex: 347502 entries, 0 to 347501\n",
      "Data columns (total 11 columns):\n",
      "SEXO               347502 non-null object\n",
      "OBESIDAD           347502 non-null object\n",
      "DIABETES           347502 non-null object\n",
      "EPOC               347502 non-null object\n",
      "ASMA               347502 non-null object\n",
      "CARDIOVASCULAR     347502 non-null object\n",
      "RENAL CRONICA      347502 non-null object\n",
      "INMUNOSUPRESION    347502 non-null object\n",
      "HIPERTENSION       347502 non-null object\n",
      "TIPO PACIENTE      347502 non-null object\n",
      "EDAD               347502 non-null int64\n",
      "dtypes: int64(1), object(10)\n",
      "memory usage: 29.2+ MB\n"
     ]
    }
   ],
   "source": [
    "subdf.info()"
   ]
  },
  {
   "cell_type": "code",
   "execution_count": 17,
   "metadata": {},
   "outputs": [
    {
     "data": {
      "text/plain": [
       "HOMBRE    186233\n",
       "MUJER     161269\n",
       "Name: SEXO, dtype: int64"
      ]
     },
     "execution_count": 17,
     "metadata": {},
     "output_type": "execute_result"
    }
   ],
   "source": [
    "subdf[\"SEXO\"].value_counts()"
   ]
  },
  {
   "cell_type": "code",
   "execution_count": 18,
   "metadata": {},
   "outputs": [
    {
     "data": {
      "text/plain": [
       "45.3304844288666"
      ]
     },
     "execution_count": 18,
     "metadata": {},
     "output_type": "execute_result"
    }
   ],
   "source": [
    "subdf[\"EDAD\"].mean()"
   ]
  },
  {
   "cell_type": "code",
   "execution_count": 19,
   "metadata": {},
   "outputs": [],
   "source": [
    "numerico = {\"OBESIDAD\": {\"SI\": 1, \"NO\": 0},\n",
    "                \"DIABETES\": {\"SI\": 1, \"NO\": 0},\n",
    "                \"EPOC\": {\"SI\": 1, \"NO\": 0},\n",
    "                \"ASMA\": {\"SI\": 1, \"NO\": 0},\n",
    "                \"CARDIOVASCULAR\": {\"SI\": 1, \"NO\": 0},\n",
    "                \"RENAL CRONICA\": {\"SI\": 1, \"NO\": 0},\n",
    "                \"INMUNOSUPRESION\": {\"SI\": 1, \"NO\": 0},\n",
    "                \"HIPERTENSION\": {\"SI\": 1, \"NO\": 0},\n",
    "                \"TIPO PACIENTE\": {\"HOSPITALIZADO\": 1, \"AMBULATORIO\": 0}}"
   ]
  },
  {
   "cell_type": "code",
   "execution_count": 20,
   "metadata": {},
   "outputs": [],
   "source": [
    "cam = {\"OBESIDAD\": {\"SI\": 1, \"NO\": 0}}"
   ]
  },
  {
   "cell_type": "code",
   "execution_count": 21,
   "metadata": {},
   "outputs": [
    {
     "name": "stderr",
     "output_type": "stream",
     "text": [
      "C:\\Users\\jhuel\\Anaconda3\\lib\\site-packages\\ipykernel_launcher.py:1: SettingWithCopyWarning: \n",
      "A value is trying to be set on a copy of a slice from a DataFrame.\n",
      "Try using .loc[row_indexer,col_indexer] = value instead\n",
      "\n",
      "See the caveats in the documentation: http://pandas.pydata.org/pandas-docs/stable/indexing.html#indexing-view-versus-copy\n",
      "  \"\"\"Entry point for launching an IPython kernel.\n"
     ]
    }
   ],
   "source": [
    "subdf[\"OBESIDAD\"] = subdf.OBESIDAD.astype('bool')"
   ]
  },
  {
   "cell_type": "code",
   "execution_count": 22,
   "metadata": {},
   "outputs": [],
   "source": [
    "bdata = pd.read_csv(\"covidbinario.csv\")"
   ]
  },
  {
   "cell_type": "code",
   "execution_count": null,
   "metadata": {},
   "outputs": [],
   "source": []
  },
  {
   "cell_type": "code",
   "execution_count": 23,
   "metadata": {},
   "outputs": [
    {
     "data": {
      "text/plain": [
       "SEXO              object\n",
       "OBE1DAD            int64\n",
       "DIABETES           int64\n",
       "EPOC               int64\n",
       "ASMA               int64\n",
       "CARDIOVASCULAR     int64\n",
       "RENAL CRONICA      int64\n",
       "INMUNOSUPRE1ON     int64\n",
       "HIPERTEN1ON        int64\n",
       "TIPO PACIENTE      int64\n",
       "EDAD               int64\n",
       "dtype: object"
      ]
     },
     "execution_count": 23,
     "metadata": {},
     "output_type": "execute_result"
    }
   ],
   "source": [
    "bdata.dtypes"
   ]
  },
  {
   "cell_type": "code",
   "execution_count": 24,
   "metadata": {
    "scrolled": false
   },
   "outputs": [
    {
     "name": "stdout",
     "output_type": "stream",
     "text": [
      "Columna SEXO: 0\n",
      "Columna OBE1DAD: 0\n",
      "Columna DIABETES: 0\n",
      "Columna EPOC: 0\n",
      "Columna ASMA: 0\n",
      "Columna CARDIOVASCULAR: 0\n",
      "Columna RENAL CRONICA: 0\n",
      "Columna INMUNOSUPRE1ON: 0\n",
      "Columna HIPERTEN1ON: 0\n",
      "Columna TIPO PACIENTE: 0\n",
      "Columna EDAD: 0\n"
     ]
    }
   ],
   "source": [
    "# Validación de NA's\n",
    "for i in bdata.columns:\n",
    "    nulos= pd.isnull(bdata[i]).sum()\n",
    "    print('Columna {}: {}'.format(i, nulos))"
   ]
  },
  {
   "cell_type": "code",
   "execution_count": 101,
   "metadata": {},
   "outputs": [],
   "source": [
    "X=bdata.iloc[:,1:8]\n",
    "y=bdata.loc[:,\"TIPO PACIENTE\"]"
   ]
  },
  {
   "cell_type": "code",
   "execution_count": 102,
   "metadata": {
    "scrolled": true
   },
   "outputs": [
    {
     "name": "stdout",
     "output_type": "stream",
     "text": [
      "[ 0.24869763  1.28468096  1.07970422 -0.38143144  0.66971703  1.11741467\n",
      "  0.77930347]\n",
      "[-1.28937873]\n"
     ]
    }
   ],
   "source": [
    "model=LogisticRegression(C=100,solver='newton-cg',max_iter=10000).fit(X,y)\n",
    "print(model.coef_[0])\n",
    "print(model.intercept_)"
   ]
  },
  {
   "cell_type": "code",
   "execution_count": 106,
   "metadata": {},
   "outputs": [],
   "source": [
    "from statsmodels.tools.tools import add_constant\n",
    "from statsmodels.discrete.discrete_model import Logit"
   ]
  },
  {
   "cell_type": "code",
   "execution_count": 107,
   "metadata": {
    "scrolled": false
   },
   "outputs": [
    {
     "name": "stdout",
     "output_type": "stream",
     "text": [
      "Optimization terminated successfully.\n",
      "         Current function value: 0.556064\n",
      "         Iterations 5\n"
     ]
    },
    {
     "data": {
      "text/html": [
       "<table class=\"simpletable\">\n",
       "<caption>Logit Regression Results</caption>\n",
       "<tr>\n",
       "  <th>Dep. Variable:</th>     <td>TIPO PACIENTE</td>  <th>  No. Observations:  </th>   <td>347502</td>   \n",
       "</tr>\n",
       "<tr>\n",
       "  <th>Model:</th>                 <td>Logit</td>      <th>  Df Residuals:      </th>   <td>347494</td>   \n",
       "</tr>\n",
       "<tr>\n",
       "  <th>Method:</th>                 <td>MLE</td>       <th>  Df Model:          </th>   <td>     7</td>   \n",
       "</tr>\n",
       "<tr>\n",
       "  <th>Date:</th>            <td>Tue, 09 Feb 2021</td> <th>  Pseudo R-squ.:     </th>   <td>0.06711</td>  \n",
       "</tr>\n",
       "<tr>\n",
       "  <th>Time:</th>                <td>18:43:19</td>     <th>  Log-Likelihood:    </th> <td>-1.9323e+05</td>\n",
       "</tr>\n",
       "<tr>\n",
       "  <th>converged:</th>             <td>True</td>       <th>  LL-Null:           </th> <td>-2.0713e+05</td>\n",
       "</tr>\n",
       "<tr>\n",
       "  <th>Covariance Type:</th>     <td>nonrobust</td>    <th>  LLR p-value:       </th>   <td> 0.000</td>   \n",
       "</tr>\n",
       "</table>\n",
       "<table class=\"simpletable\">\n",
       "<tr>\n",
       "         <td></td>           <th>coef</th>     <th>std err</th>      <th>z</th>      <th>P>|z|</th>  <th>[0.025</th>    <th>0.975]</th>  \n",
       "</tr>\n",
       "<tr>\n",
       "  <th>const</th>          <td>   -1.2894</td> <td>    0.005</td> <td> -263.272</td> <td> 0.000</td> <td>   -1.299</td> <td>   -1.280</td>\n",
       "</tr>\n",
       "<tr>\n",
       "  <th>OBE1DAD</th>        <td>    0.2487</td> <td>    0.010</td> <td>   25.540</td> <td> 0.000</td> <td>    0.230</td> <td>    0.268</td>\n",
       "</tr>\n",
       "<tr>\n",
       "  <th>DIABETES</th>       <td>    1.2847</td> <td>    0.010</td> <td>  130.990</td> <td> 0.000</td> <td>    1.265</td> <td>    1.304</td>\n",
       "</tr>\n",
       "<tr>\n",
       "  <th>EPOC</th>           <td>    1.0797</td> <td>    0.029</td> <td>   36.629</td> <td> 0.000</td> <td>    1.022</td> <td>    1.137</td>\n",
       "</tr>\n",
       "<tr>\n",
       "  <th>ASMA</th>           <td>   -0.3814</td> <td>    0.026</td> <td>  -14.541</td> <td> 0.000</td> <td>   -0.433</td> <td>   -0.330</td>\n",
       "</tr>\n",
       "<tr>\n",
       "  <th>CARDIOVASCULAR</th> <td>    0.6697</td> <td>    0.025</td> <td>   26.466</td> <td> 0.000</td> <td>    0.620</td> <td>    0.719</td>\n",
       "</tr>\n",
       "<tr>\n",
       "  <th>RENAL CRONICA</th>  <td>    1.1174</td> <td>    0.027</td> <td>   41.437</td> <td> 0.000</td> <td>    1.065</td> <td>    1.170</td>\n",
       "</tr>\n",
       "<tr>\n",
       "  <th>INMUNOSUPRE1ON</th> <td>    0.7793</td> <td>    0.033</td> <td>   23.440</td> <td> 0.000</td> <td>    0.714</td> <td>    0.844</td>\n",
       "</tr>\n",
       "</table>"
      ],
      "text/plain": [
       "<class 'statsmodels.iolib.summary.Summary'>\n",
       "\"\"\"\n",
       "                           Logit Regression Results                           \n",
       "==============================================================================\n",
       "Dep. Variable:          TIPO PACIENTE   No. Observations:               347502\n",
       "Model:                          Logit   Df Residuals:                   347494\n",
       "Method:                           MLE   Df Model:                            7\n",
       "Date:                Tue, 09 Feb 2021   Pseudo R-squ.:                 0.06711\n",
       "Time:                        18:43:19   Log-Likelihood:            -1.9323e+05\n",
       "converged:                       True   LL-Null:                   -2.0713e+05\n",
       "Covariance Type:            nonrobust   LLR p-value:                     0.000\n",
       "==================================================================================\n",
       "                     coef    std err          z      P>|z|      [0.025      0.975]\n",
       "----------------------------------------------------------------------------------\n",
       "const             -1.2894      0.005   -263.272      0.000      -1.299      -1.280\n",
       "OBE1DAD            0.2487      0.010     25.540      0.000       0.230       0.268\n",
       "DIABETES           1.2847      0.010    130.990      0.000       1.265       1.304\n",
       "EPOC               1.0797      0.029     36.629      0.000       1.022       1.137\n",
       "ASMA              -0.3814      0.026    -14.541      0.000      -0.433      -0.330\n",
       "CARDIOVASCULAR     0.6697      0.025     26.466      0.000       0.620       0.719\n",
       "RENAL CRONICA      1.1174      0.027     41.437      0.000       1.065       1.170\n",
       "INMUNOSUPRE1ON     0.7793      0.033     23.440      0.000       0.714       0.844\n",
       "==================================================================================\n",
       "\"\"\""
      ]
     },
     "execution_count": 107,
     "metadata": {},
     "output_type": "execute_result"
    }
   ],
   "source": [
    "X0 = add_constant(X)\n",
    "model0 = Logit(y,X0)\n",
    "modelfit=model0.fit()\n",
    "modelfit.summary()"
   ]
  },
  {
   "cell_type": "markdown",
   "metadata": {},
   "source": [
    "Al interpretar la columna d elos coeficientes, nos damos cuenta que "
   ]
  },
  {
   "cell_type": "code",
   "execution_count": 109,
   "metadata": {},
   "outputs": [],
   "source": [
    "hospitalizado=bdata[bdata['TIPO PACIENTE']==1]\n",
    "ambulatorio=bdata[bdata['TIPO PACIENTE']==0]"
   ]
  },
  {
   "cell_type": "code",
   "execution_count": 111,
   "metadata": {},
   "outputs": [],
   "source": [
    "import pylab as mp"
   ]
  },
  {
   "cell_type": "code",
   "execution_count": 113,
   "metadata": {},
   "outputs": [
    {
     "data": {
      "text/plain": [
       "<matplotlib.collections.PathCollection at 0x1a7842527f0>"
      ]
     },
     "execution_count": 113,
     "metadata": {},
     "output_type": "execute_result"
    },
    {
     "data": {
      "image/png": "[encoded data removed]",
      "text/plain": [
       "<Figure size 432x288 with 1 Axes>"
      ]
     },
     "metadata": {
      "needs_background": "light"
     },
     "output_type": "display_data"
    }
   ],
   "source": [
    "mp.xlabel('DIABETES')\n",
    "mp.ylabel('EPOC')\n",
    "mp.scatter(hospitalizado.DIABETES,hospitalizado.EPOC,color='red',label='',alpha=0.9,)\n",
    "mp.scatter(ambulatorio.DIABETES,ambulatorio.EPOC,color='green',alpha=0.1)"
   ]
  },
  {
   "cell_type": "code",
   "execution_count": null,
   "metadata": {},
   "outputs": [],
   "source": []
  },
  {
   "cell_type": "code",
   "execution_count": 85,
   "metadata": {},
   "outputs": [],
   "source": [
    "import numpy as np\n",
    "import pandas as pd\n",
    "import seaborn as sns\n",
    "import matplotlib.pyplot as plt\n",
    "%matplotlib inline"
   ]
  },
  {
   "cell_type": "code",
   "execution_count": 86,
   "metadata": {},
   "outputs": [],
   "source": [
    "#from   sklearn.model_selection import GridSearchCV       #optimización de hiperparametros\n",
    "#from   sklearn                 import metrics            #metricas de validación\n",
    "from   sklearn.model_selection import train_test_split   #segmentación de muestra\n",
    "from   sklearn.ensemble import RandomForestRegressor, RandomForestClassifier\n",
    "from   sklearn.metrics         import roc_auc_score\n",
    "from mlxtend.feature_selection import SequentialFeatureSelector as SFS\n",
    "\n",
    "\n",
    "#from   sklearn.linear_model    import LogisticRegression #clasificador \n",
    "#from   sklearn.impute          import SimpleImputer      \n",
    "#from   sklearn.compose         import ColumnTransformer\n",
    "#from   sklearn.pipeline        import Pipeline\n",
    "#from   sklearn.preprocessing   import LabelEncoder\n",
    "#from   sklearn.preprocessing   import OneHotEncoder,StandardScaler\n",
    "#from   sklearn.preprocessing   import KBinsDiscretizer\n",
    "#from   sklearn.metrics         import accuracy_score, precision_score, recall_score, f1_score"
   ]
  },
  {
   "cell_type": "code",
   "execution_count": 100,
   "metadata": {},
   "outputs": [],
   "source": [
    "#from sklearn.datasets   import load_wine\n",
    "from sklearn.preprocessing import StandardScaler"
   ]
  },
  {
   "cell_type": "code",
   "execution_count": 92,
   "metadata": {},
   "outputs": [
    {
     "data": {
      "text/plain": [
       "Index(['SEXO', 'OBE1DAD', 'DIABETES', 'EPOC', 'ASMA', 'CARDIOVASCULAR',\n",
       "       'RENAL CRONICA', 'INMUNOSUPRE1ON', 'HIPERTEN1ON', 'TIPO PACIENTE',\n",
       "       'EDAD'],\n",
       "      dtype='object')"
      ]
     },
     "execution_count": 92,
     "metadata": {},
     "output_type": "execute_result"
    }
   ],
   "source": [
    "bdata.keys()"
   ]
  },
  {
   "cell_type": "code",
   "execution_count": 118,
   "metadata": {},
   "outputs": [],
   "source": [
    "X=bdata.iloc[:,1:8]\n",
    "y=bdata.loc[:,\"TIPO PACIENTE\"]"
   ]
  },
  {
   "cell_type": "code",
   "execution_count": 119,
   "metadata": {},
   "outputs": [
    {
     "data": {
      "text/plain": [
       "((278001, 7), (69501, 7))"
      ]
     },
     "execution_count": 119,
     "metadata": {},
     "output_type": "execute_result"
    }
   ],
   "source": [
    "\n",
    "X_train, X_test, y_train, y_test = train_test_split(X,y,test_size =0.2, random_state = 0)\n",
    "X_train.shape,X_test.shape"
   ]
  },
  {
   "cell_type": "markdown",
   "metadata": {},
   "source": [
    "El objetivo es reducir el conjunto de caracteríaticas y quedarse con las mejores características."
   ]
  },
  {
   "cell_type": "markdown",
   "metadata": {},
   "source": [
    "### Forward Feature Selection (SFS)"
   ]
  },
  {
   "cell_type": "code",
   "execution_count": 120,
   "metadata": {},
   "outputs": [
    {
     "name": "stderr",
     "output_type": "stream",
     "text": [
      "[Parallel(n_jobs=-1)]: Using backend LokyBackend with 4 concurrent workers.\n",
      "[Parallel(n_jobs=-1)]: Done   4 out of   7 | elapsed:   53.8s remaining:   40.3s\n",
      "[Parallel(n_jobs=-1)]: Done   7 out of   7 | elapsed:  1.2min finished\n",
      "\n",
      "[2021-02-09 19:29:39] Features: 1/4 -- score: 0.7335081536531899[Parallel(n_jobs=-1)]: Using backend LokyBackend with 4 concurrent workers.\n",
      "[Parallel(n_jobs=-1)]: Done   3 out of   6 | elapsed:   29.1s remaining:   29.1s\n",
      "[Parallel(n_jobs=-1)]: Done   6 out of   6 | elapsed:   44.2s finished\n",
      "\n",
      "[2021-02-09 19:30:23] Features: 2/4 -- score: 0.7348534719597741[Parallel(n_jobs=-1)]: Using backend LokyBackend with 4 concurrent workers.\n",
      "[Parallel(n_jobs=-1)]: Done   5 out of   5 | elapsed:   44.0s finished\n",
      "\n",
      "[2021-02-09 19:31:07] Features: 3/4 -- score: 0.7357887194625532[Parallel(n_jobs=-1)]: Using backend LokyBackend with 4 concurrent workers.\n",
      "[Parallel(n_jobs=-1)]: Done   4 out of   4 | elapsed:   40.2s finished\n",
      "\n",
      "[2021-02-09 19:31:48] Features: 4/4 -- score: 0.7363138972484119"
     ]
    }
   ],
   "source": [
    "sfs=SFS(RandomForestClassifier(n_estimators=100,n_jobs=-1),\n",
    "       k_features= 4,\n",
    "       forward=True,\n",
    "       floating= False,\n",
    "       verbose= 2,\n",
    "       scoring='accuracy',\n",
    "       cv= 4,\n",
    "       n_jobs=-1\n",
    "       ).fit(X_train, y_train)"
   ]
  },
  {
   "cell_type": "code",
   "execution_count": 121,
   "metadata": {},
   "outputs": [
    {
     "data": {
      "text/plain": [
       "('DIABETES', 'EPOC', 'ASMA', 'RENAL CRONICA')"
      ]
     },
     "execution_count": 121,
     "metadata": {},
     "output_type": "execute_result"
    }
   ],
   "source": [
    "\n",
    "#Nos da los nombre de las características\n",
    "#que mejor se ajustan al modelo\n",
    "sfs.k_feature_names_"
   ]
  },
  {
   "cell_type": "code",
   "execution_count": 122,
   "metadata": {},
   "outputs": [
    {
     "data": {
      "text/plain": [
       "(1, 2, 3, 5)"
      ]
     },
     "execution_count": 122,
     "metadata": {},
     "output_type": "execute_result"
    }
   ],
   "source": [
    "sfs.k_feature_idx_"
   ]
  },
  {
   "cell_type": "code",
   "execution_count": 123,
   "metadata": {},
   "outputs": [
    {
     "data": {
      "text/plain": [
       "0.7363138972484119"
      ]
     },
     "execution_count": 123,
     "metadata": {},
     "output_type": "execute_result"
    }
   ],
   "source": [
    "sfs.k_score_"
   ]
  },
  {
   "cell_type": "code",
   "execution_count": 124,
   "metadata": {},
   "outputs": [
    {
     "data": {
      "text/html": [
       "<div>\n",
       "<style scoped>\n",
       "    .dataframe tbody tr th:only-of-type {\n",
       "        vertical-align: middle;\n",
       "    }\n",
       "\n",
       "    .dataframe tbody tr th {\n",
       "        vertical-align: top;\n",
       "    }\n",
       "\n",
       "    .dataframe thead th {\n",
       "        text-align: right;\n",
       "    }\n",
       "</style>\n",
       "<table border=\"1\" class=\"dataframe\">\n",
       "  <thead>\n",
       "    <tr style=\"text-align: right;\">\n",
       "      <th></th>\n",
       "      <th>avg_score</th>\n",
       "      <th>ci_bound</th>\n",
       "      <th>cv_scores</th>\n",
       "      <th>feature_idx</th>\n",
       "      <th>feature_names</th>\n",
       "      <th>std_dev</th>\n",
       "      <th>std_err</th>\n",
       "    </tr>\n",
       "  </thead>\n",
       "  <tbody>\n",
       "    <tr>\n",
       "      <th>1</th>\n",
       "      <td>0.733508</td>\n",
       "      <td>0.000649543</td>\n",
       "      <td>[0.7332844131739111, 0.7335107913669064, 0.733...</td>\n",
       "      <td>(1,)</td>\n",
       "      <td>(DIABETES,)</td>\n",
       "      <td>0.000405209</td>\n",
       "      <td>0.000233948</td>\n",
       "    </tr>\n",
       "    <tr>\n",
       "      <th>2</th>\n",
       "      <td>0.734853</td>\n",
       "      <td>0.000499301</td>\n",
       "      <td>[0.7347951828031252, 0.7350503597122302, 0.734...</td>\n",
       "      <td>(1, 2)</td>\n",
       "      <td>(DIABETES, EPOC)</td>\n",
       "      <td>0.000311482</td>\n",
       "      <td>0.000179834</td>\n",
       "    </tr>\n",
       "    <tr>\n",
       "      <th>3</th>\n",
       "      <td>0.735789</td>\n",
       "      <td>0.000891351</td>\n",
       "      <td>[0.7359894102243133, 0.7353669064748202, 0.735...</td>\n",
       "      <td>(1, 2, 5)</td>\n",
       "      <td>(DIABETES, EPOC, RENAL CRONICA)</td>\n",
       "      <td>0.000556058</td>\n",
       "      <td>0.00032104</td>\n",
       "    </tr>\n",
       "    <tr>\n",
       "      <th>4</th>\n",
       "      <td>0.736314</td>\n",
       "      <td>0.00142197</td>\n",
       "      <td>[0.7365649415116329, 0.7353237410071942, 0.735...</td>\n",
       "      <td>(1, 2, 3, 5)</td>\n",
       "      <td>(DIABETES, EPOC, ASMA, RENAL CRONICA)</td>\n",
       "      <td>0.00088708</td>\n",
       "      <td>0.000512156</td>\n",
       "    </tr>\n",
       "  </tbody>\n",
       "</table>\n",
       "</div>"
      ],
      "text/plain": [
       "  avg_score     ci_bound                                          cv_scores  \\\n",
       "1  0.733508  0.000649543  [0.7332844131739111, 0.7335107913669064, 0.733...   \n",
       "2  0.734853  0.000499301  [0.7347951828031252, 0.7350503597122302, 0.734...   \n",
       "3  0.735789  0.000891351  [0.7359894102243133, 0.7353669064748202, 0.735...   \n",
       "4  0.736314   0.00142197  [0.7365649415116329, 0.7353237410071942, 0.735...   \n",
       "\n",
       "    feature_idx                          feature_names      std_dev  \\\n",
       "1          (1,)                            (DIABETES,)  0.000405209   \n",
       "2        (1, 2)                       (DIABETES, EPOC)  0.000311482   \n",
       "3     (1, 2, 5)        (DIABETES, EPOC, RENAL CRONICA)  0.000556058   \n",
       "4  (1, 2, 3, 5)  (DIABETES, EPOC, ASMA, RENAL CRONICA)   0.00088708   \n",
       "\n",
       "       std_err  \n",
       "1  0.000233948  \n",
       "2  0.000179834  \n",
       "3   0.00032104  \n",
       "4  0.000512156  "
      ]
     },
     "execution_count": 124,
     "metadata": {},
     "output_type": "execute_result"
    }
   ],
   "source": [
    "pd.DataFrame.from_dict(sfs.get_metric_dict()).T"
   ]
  },
  {
   "cell_type": "code",
   "execution_count": 125,
   "metadata": {},
   "outputs": [
    {
     "name": "stderr",
     "output_type": "stream",
     "text": [
      "[Parallel(n_jobs=-1)]: Using backend LokyBackend with 4 concurrent workers.\n",
      "[Parallel(n_jobs=-1)]: Done   4 out of   7 | elapsed:   32.4s remaining:   24.3s\n",
      "[Parallel(n_jobs=-1)]: Done   7 out of   7 | elapsed:   48.3s finished\n",
      "\n",
      "[2021-02-09 19:46:51] Features: 1/5 -- score: 0.7335081536531899[Parallel(n_jobs=-1)]: Using backend LokyBackend with 4 concurrent workers.\n",
      "[Parallel(n_jobs=-1)]: Done   3 out of   6 | elapsed:   26.6s remaining:   26.6s\n",
      "[Parallel(n_jobs=-1)]: Done   6 out of   6 | elapsed:   39.8s finished\n",
      "\n",
      "[2021-02-09 19:47:31] Features: 2/5 -- score: 0.7348534719597741[Parallel(n_jobs=-1)]: Using backend LokyBackend with 4 concurrent workers.\n",
      "[Parallel(n_jobs=-1)]: Done   5 out of   5 | elapsed:   42.3s finished\n",
      "\n",
      "[2021-02-09 19:48:14] Features: 3/5 -- score: 0.7357887194625532[Parallel(n_jobs=-1)]: Using backend LokyBackend with 4 concurrent workers.\n",
      "[Parallel(n_jobs=-1)]: Done   4 out of   4 | elapsed:   34.4s finished\n",
      "\n",
      "[2021-02-09 19:48:48] Features: 4/5 -- score: 0.7363031058815054[Parallel(n_jobs=-1)]: Using backend LokyBackend with 4 concurrent workers.\n",
      "[Parallel(n_jobs=-1)]: Done   3 out of   3 | elapsed:   28.6s finished\n",
      "\n",
      "[2021-02-09 19:49:17] Features: 5/5 -- score: 0.7362923147216245"
     ]
    }
   ],
   "source": [
    "sfs1=SFS(RandomForestClassifier(n_estimators=100,n_jobs=-1),\n",
    "       k_features= (1,5),\n",
    "       forward=True,\n",
    "       floating= False,\n",
    "       verbose= 2,\n",
    "       scoring='accuracy',\n",
    "       cv= 4,\n",
    "       n_jobs=-1\n",
    "       ).fit(X_train, y_train)"
   ]
  },
  {
   "cell_type": "code",
   "execution_count": 126,
   "metadata": {},
   "outputs": [
    {
     "data": {
      "text/plain": [
       "0.7363031058815054"
      ]
     },
     "execution_count": 126,
     "metadata": {},
     "output_type": "execute_result"
    }
   ],
   "source": [
    "sfs1.k_score_"
   ]
  },
  {
   "cell_type": "markdown",
   "metadata": {},
   "source": [
    "# Las 4 características proncipales con las que nos quedamos son: \n",
    "'DIABETES', 'EPOC', 'ASMA', 'RENAL CRONICA'"
   ]
  },
  {
   "cell_type": "code",
   "execution_count": 127,
   "metadata": {},
   "outputs": [
    {
     "data": {
      "text/plain": [
       "('DIABETES', 'EPOC', 'ASMA', 'RENAL CRONICA')"
      ]
     },
     "execution_count": 127,
     "metadata": {},
     "output_type": "execute_result"
    }
   ],
   "source": [
    "sfs1.k_feature_names_"
   ]
  },
  {
   "cell_type": "markdown",
   "metadata": {},
   "source": [
    "### STEP BACKWARD SELECTION (BSB)"
   ]
  },
  {
   "cell_type": "code",
   "execution_count": 128,
   "metadata": {},
   "outputs": [
    {
     "name": "stderr",
     "output_type": "stream",
     "text": [
      "[Parallel(n_jobs=-1)]: Using backend LokyBackend with 4 concurrent workers.\n",
      "[Parallel(n_jobs=-1)]: Done   4 out of   7 | elapsed:   48.4s remaining:   36.3s\n",
      "[Parallel(n_jobs=-1)]: Done   7 out of   7 | elapsed:  1.3min finished\n",
      "\n",
      "[2021-02-09 19:56:08] Features: 6/1 -- score: 0.7362419548023686[Parallel(n_jobs=-1)]: Using backend LokyBackend with 4 concurrent workers.\n",
      "[Parallel(n_jobs=-1)]: Done   3 out of   6 | elapsed:   36.9s remaining:   36.9s\n",
      "[Parallel(n_jobs=-1)]: Done   6 out of   6 | elapsed:   55.9s finished\n",
      "\n",
      "[2021-02-09 19:57:04] Features: 5/1 -- score: 0.7363031060367746[Parallel(n_jobs=-1)]: Using backend LokyBackend with 4 concurrent workers.\n",
      "[Parallel(n_jobs=-1)]: Done   5 out of   5 | elapsed:   44.4s finished\n",
      "\n",
      "[2021-02-09 19:57:48] Features: 4/1 -- score: 0.736270731780786[Parallel(n_jobs=-1)]: Using backend LokyBackend with 4 concurrent workers.\n",
      "[Parallel(n_jobs=-1)]: Done   4 out of   4 | elapsed:   33.5s finished\n",
      "\n",
      "[2021-02-09 19:58:22] Features: 3/1 -- score: 0.7357887194625532[Parallel(n_jobs=-1)]: Using backend LokyBackend with 4 concurrent workers.\n",
      "[Parallel(n_jobs=-1)]: Done   3 out of   3 | elapsed:   19.1s finished\n",
      "\n",
      "[2021-02-09 19:58:41] Features: 2/1 -- score: 0.7348534719597741[Parallel(n_jobs=-1)]: Using backend LokyBackend with 4 concurrent workers.\n",
      "[Parallel(n_jobs=-1)]: Done   2 out of   2 | elapsed:   12.1s finished\n",
      "\n",
      "[2021-02-09 19:58:53] Features: 1/1 -- score: 0.7335081536531899"
     ]
    }
   ],
   "source": [
    "sfs2=SFS(RandomForestClassifier(n_estimators=100,n_jobs=-1),\n",
    "       k_features= (1,5),\n",
    "       forward=False,\n",
    "       floating= False,\n",
    "       verbose= 2,\n",
    "       scoring='accuracy',\n",
    "       cv= 4,\n",
    "       n_jobs=-1\n",
    "       ).fit(X_train, y_train)"
   ]
  },
  {
   "cell_type": "code",
   "execution_count": 129,
   "metadata": {},
   "outputs": [
    {
     "data": {
      "text/plain": [
       "0.7363031060367746"
      ]
     },
     "execution_count": 129,
     "metadata": {},
     "output_type": "execute_result"
    }
   ],
   "source": [
    "sfs2.k_score_"
   ]
  },
  {
   "cell_type": "code",
   "execution_count": 130,
   "metadata": {},
   "outputs": [
    {
     "data": {
      "text/plain": [
       "('DIABETES', 'EPOC', 'ASMA', 'RENAL CRONICA', 'INMUNOSUPRE1ON')"
      ]
     },
     "execution_count": 130,
     "metadata": {},
     "output_type": "execute_result"
    }
   ],
   "source": [
    "sfs2.k_feature_names_"
   ]
  },
  {
   "cell_type": "markdown",
   "metadata": {},
   "source": [
    "###  Exhaustive Feature Selection (EFS)"
   ]
  },
  {
   "cell_type": "code",
   "execution_count": 134,
   "metadata": {},
   "outputs": [],
   "source": [
    "from mlxtend.feature_selection import ExhaustiveFeatureSelector as EFS"
   ]
  },
  {
   "cell_type": "code",
   "execution_count": 136,
   "metadata": {},
   "outputs": [
    {
     "name": "stderr",
     "output_type": "stream",
     "text": [
      "Features: 112/112"
     ]
    }
   ],
   "source": [
    "efs = EFS(RandomForestClassifier(n_estimators=100, random_state=0, n_jobs=-1),\n",
    "         min_features=2,\n",
    "         max_features=5,\n",
    "         scoring='accuracy',\n",
    "         cv= None,\n",
    "         n_jobs=-1).fit(X_train,y_train)"
   ]
  },
  {
   "cell_type": "code",
   "execution_count": 137,
   "metadata": {},
   "outputs": [
    {
     "name": "stdout",
     "output_type": "stream",
     "text": [
      "Help on ExhaustiveFeatureSelector in module mlxtend.feature_selection.exhaustive_feature_selector object:\n",
      "\n",
      "class ExhaustiveFeatureSelector(sklearn.base.BaseEstimator, sklearn.base.MetaEstimatorMixin)\n",
      " |  ExhaustiveFeatureSelector(estimator, min_features=1, max_features=1, print_progress=True, scoring='accuracy', cv=5, n_jobs=1, pre_dispatch='2*n_jobs', clone_estimator=True)\n",
      " |  \n",
      " |  Exhaustive Feature Selection for Classification and Regression.\n",
      " |     (new in v0.4.3)\n",
      " |  \n",
      " |  Parameters\n",
      " |  ----------\n",
      " |  estimator : scikit-learn classifier or regressor\n",
      " |  min_features : int (default: 1)\n",
      " |      Minumum number of features to select\n",
      " |  max_features : int (default: 1)\n",
      " |      Maximum number of features to select\n",
      " |  print_progress : bool (default: True)\n",
      " |      Prints progress as the number of epochs\n",
      " |      to stderr.\n",
      " |  scoring : str, (default='accuracy')\n",
      " |      Scoring metric in {accuracy, f1, precision, recall, roc_auc}\n",
      " |      for classifiers,\n",
      " |      {'mean_absolute_error', 'mean_squared_error',\n",
      " |      'median_absolute_error', 'r2'} for regressors,\n",
      " |      or a callable object or function with\n",
      " |      signature ``scorer(estimator, X, y)``.\n",
      " |  cv : int (default: 5)\n",
      " |      Scikit-learn cross-validation generator or `int`.\n",
      " |      If estimator is a classifier (or y consists of integer class labels),\n",
      " |      stratified k-fold is performed, and regular k-fold cross-validation\n",
      " |      otherwise.\n",
      " |      No cross-validation if cv is None, False, or 0.\n",
      " |  n_jobs : int (default: 1)\n",
      " |      The number of CPUs to use for evaluating different feature subsets\n",
      " |      in parallel. -1 means 'all CPUs'.\n",
      " |  pre_dispatch : int, or string (default: '2*n_jobs')\n",
      " |      Controls the number of jobs that get dispatched\n",
      " |      during parallel execution if `n_jobs > 1` or `n_jobs=-1`.\n",
      " |      Reducing this number can be useful to avoid an explosion of\n",
      " |      memory consumption when more jobs get dispatched than CPUs can process.\n",
      " |      This parameter can be:\n",
      " |      None, in which case all the jobs are immediately created and spawned.\n",
      " |          Use this for lightweight and fast-running jobs,\n",
      " |          to avoid delays due to on-demand spawning of the jobs\n",
      " |      An int, giving the exact number of total jobs that are spawned\n",
      " |      A string, giving an expression as a function\n",
      " |          of n_jobs, as in `2*n_jobs`\n",
      " |  clone_estimator : bool (default: True)\n",
      " |      Clones estimator if True; works with the original estimator instance\n",
      " |      if False. Set to False if the estimator doesn't\n",
      " |      implement scikit-learn's set_params and get_params methods.\n",
      " |      In addition, it is required to set cv=0, and n_jobs=1.\n",
      " |  \n",
      " |  Attributes\n",
      " |  ----------\n",
      " |  best_idx_ : array-like, shape = [n_predictions]\n",
      " |      Feature Indices of the selected feature subsets.\n",
      " |  best_feature_names_ : array-like, shape = [n_predictions]\n",
      " |      Feature names of the selected feature subsets. If pandas\n",
      " |      DataFrames are used in the `fit` method, the feature\n",
      " |      names correspond to the column names. Otherwise, the\n",
      " |      feature names are string representation of the feature\n",
      " |      array indices. New in v 0.13.0.\n",
      " |  best_score_ : float\n",
      " |      Cross validation average score of the selected subset.\n",
      " |  subsets_ : dict\n",
      " |      A dictionary of selected feature subsets during the\n",
      " |      exhaustive selection, where the dictionary keys are\n",
      " |      the lengths k of these feature subsets. The dictionary\n",
      " |      values are dictionaries themselves with the following\n",
      " |      keys: 'feature_idx' (tuple of indices of the feature subset)\n",
      " |            'feature_names' (tuple of feature names of the feat. subset)\n",
      " |            'cv_scores' (list individual cross-validation scores)\n",
      " |            'avg_score' (average cross-validation score)\n",
      " |      Note that if pandas\n",
      " |      DataFrames are used in the `fit` method, the 'feature_names'\n",
      " |      correspond to the column names. Otherwise, the\n",
      " |      feature names are string representation of the feature\n",
      " |      array indices. The 'feature_names' is new in v 0.13.0.\n",
      " |  \n",
      " |  Examples\n",
      " |  -----------\n",
      " |  For usage examples, please see\n",
      " |  http://rasbt.github.io/mlxtend/user_guide/feature_selection/ExhaustiveFeatureSelector/\n",
      " |  \n",
      " |  Method resolution order:\n",
      " |      ExhaustiveFeatureSelector\n",
      " |      sklearn.base.BaseEstimator\n",
      " |      sklearn.base.MetaEstimatorMixin\n",
      " |      builtins.object\n",
      " |  \n",
      " |  Methods defined here:\n",
      " |  \n",
      " |  __init__(self, estimator, min_features=1, max_features=1, print_progress=True, scoring='accuracy', cv=5, n_jobs=1, pre_dispatch='2*n_jobs', clone_estimator=True)\n",
      " |      Initialize self.  See help(type(self)) for accurate signature.\n",
      " |  \n",
      " |  fit(self, X, y, custom_feature_names=None, groups=None, **fit_params)\n",
      " |      Perform feature selection and learn model from training data.\n",
      " |      \n",
      " |      Parameters\n",
      " |      ----------\n",
      " |      X : {array-like, sparse matrix}, shape = [n_samples, n_features]\n",
      " |          Training vectors, where n_samples is the number of samples and\n",
      " |          n_features is the number of features.\n",
      " |          New in v 0.13.0: pandas DataFrames are now also accepted as\n",
      " |          argument for X.\n",
      " |      y : array-like, shape = [n_samples]\n",
      " |          Target values.\n",
      " |      custom_feature_names : None or tuple (default: tuple)\n",
      " |          Custom feature names for `self.k_feature_names` and\n",
      " |          `self.subsets_[i]['feature_names']`.\n",
      " |          (new in v 0.13.0)\n",
      " |      groups : array-like, with shape (n_samples,), optional\n",
      " |          Group labels for the samples used while splitting the dataset into\n",
      " |          train/test set. Passed to the fit method of the cross-validator.\n",
      " |      fit_params : dict of string -> object, optional\n",
      " |          Parameters to pass to to the fit method of classifier.\n",
      " |      \n",
      " |      Returns\n",
      " |      -------\n",
      " |      self : object\n",
      " |  \n",
      " |  fit_transform(self, X, y, groups=None, **fit_params)\n",
      " |      Fit to training data and return the best selected features from X.\n",
      " |      \n",
      " |      Parameters\n",
      " |      ----------\n",
      " |      X : {array-like, sparse matrix}, shape = [n_samples, n_features]\n",
      " |          Training vectors, where n_samples is the number of samples and\n",
      " |          n_features is the number of features.\n",
      " |          New in v 0.13.0: pandas DataFrames are now also accepted as\n",
      " |          argument for X.\n",
      " |      y : array-like, shape = [n_samples]\n",
      " |          Target values.\n",
      " |      groups : array-like, with shape (n_samples,), optional\n",
      " |          Group labels for the samples used while splitting the dataset into\n",
      " |          train/test set. Passed to the fit method of the cross-validator.\n",
      " |      fit_params : dict of string -> object, optional\n",
      " |          Parameters to pass to to the fit method of classifier.\n",
      " |      \n",
      " |      Returns\n",
      " |      -------\n",
      " |      Feature subset of X, shape={n_samples, k_features}\n",
      " |  \n",
      " |  get_metric_dict(self, confidence_interval=0.95)\n",
      " |      Return metric dictionary\n",
      " |      \n",
      " |      Parameters\n",
      " |      ----------\n",
      " |      confidence_interval : float (default: 0.95)\n",
      " |          A positive float between 0.0 and 1.0 to compute the confidence\n",
      " |          interval bounds of the CV score averages.\n",
      " |      \n",
      " |      Returns\n",
      " |      ----------\n",
      " |      Dictionary with items where each dictionary value is a list\n",
      " |      with the number of iterations (number of feature subsets) as\n",
      " |      its length. The dictionary keys corresponding to these lists\n",
      " |      are as follows:\n",
      " |          'feature_idx': tuple of the indices of the feature subset\n",
      " |          'cv_scores': list with individual CV scores\n",
      " |          'avg_score': of CV average scores\n",
      " |          'std_dev': standard deviation of the CV score average\n",
      " |          'std_err': standard error of the CV score average\n",
      " |          'ci_bound': confidence interval bound of the CV score average\n",
      " |  \n",
      " |  transform(self, X)\n",
      " |      Return the best selected features from X.\n",
      " |      \n",
      " |      Parameters\n",
      " |      ----------\n",
      " |      X : {array-like, sparse matrix}, shape = [n_samples, n_features]\n",
      " |          Training vectors, where n_samples is the number of samples and\n",
      " |          n_features is the number of features.\n",
      " |          New in v 0.13.0: pandas DataFrames are now also accepted as\n",
      " |          argument for X.\n",
      " |      \n",
      " |      Returns\n",
      " |      -------\n",
      " |      Feature subset of X, shape={n_samples, k_features}\n",
      " |  \n",
      " |  ----------------------------------------------------------------------\n",
      " |  Methods inherited from sklearn.base.BaseEstimator:\n",
      " |  \n",
      " |  __getstate__(self)\n",
      " |  \n",
      " |  __repr__(self, N_CHAR_MAX=700)\n",
      " |      Return repr(self).\n",
      " |  \n",
      " |  __setstate__(self, state)\n",
      " |  \n",
      " |  get_params(self, deep=True)\n",
      " |      Get parameters for this estimator.\n",
      " |      \n",
      " |      Parameters\n",
      " |      ----------\n",
      " |      deep : boolean, optional\n",
      " |          If True, will return the parameters for this estimator and\n",
      " |          contained subobjects that are estimators.\n",
      " |      \n",
      " |      Returns\n",
      " |      -------\n",
      " |      params : mapping of string to any\n",
      " |          Parameter names mapped to their values.\n",
      " |  \n",
      " |  set_params(self, **params)\n",
      " |      Set the parameters of this estimator.\n",
      " |      \n",
      " |      The method works on simple estimators as well as on nested objects\n",
      " |      (such as pipelines). The latter have parameters of the form\n",
      " |      ``<component>__<parameter>`` so that it's possible to update each\n",
      " |      component of a nested object.\n",
      " |      \n",
      " |      Returns\n",
      " |      -------\n",
      " |      self\n",
      " |  \n",
      " |  ----------------------------------------------------------------------\n",
      " |  Data descriptors inherited from sklearn.base.BaseEstimator:\n",
      " |  \n",
      " |  __dict__\n",
      " |      dictionary for instance variables (if defined)\n",
      " |  \n",
      " |  __weakref__\n",
      " |      list of weak references to the object (if defined)\n",
      "\n"
     ]
    }
   ],
   "source": [
    "help(efs)"
   ]
  },
  {
   "cell_type": "code",
   "execution_count": 138,
   "metadata": {},
   "outputs": [
    {
     "data": {
      "text/plain": [
       "0.7363678547918893"
      ]
     },
     "execution_count": 138,
     "metadata": {},
     "output_type": "execute_result"
    }
   ],
   "source": [
    "efs.best_score_"
   ]
  },
  {
   "cell_type": "code",
   "execution_count": 139,
   "metadata": {},
   "outputs": [
    {
     "data": {
      "text/plain": [
       "('DIABETES', 'EPOC', 'ASMA', 'RENAL CRONICA', 'INMUNOSUPRE1ON')"
      ]
     },
     "execution_count": 139,
     "metadata": {},
     "output_type": "execute_result"
    }
   ],
   "source": [
    "efs.best_feature_names_"
   ]
  },
  {
   "cell_type": "code",
   "execution_count": 140,
   "metadata": {},
   "outputs": [
    {
     "data": {
      "text/plain": [
       "(1, 2, 3, 5, 6)"
      ]
     },
     "execution_count": 140,
     "metadata": {},
     "output_type": "execute_result"
    }
   ],
   "source": [
    "efs.best_idx_"
   ]
  },
  {
   "cell_type": "code",
   "execution_count": 141,
   "metadata": {},
   "outputs": [],
   "source": [
    "from mlxtend.plotting import plot_sequential_feature_selection as plot_sfs"
   ]
  },
  {
   "cell_type": "code",
   "execution_count": 142,
   "metadata": {},
   "outputs": [
    {
     "name": "stderr",
     "output_type": "stream",
     "text": [
      "C:\\Users\\jhuel\\Anaconda3\\lib\\site-packages\\numpy\\core\\_methods.py:140: RuntimeWarning: Degrees of freedom <= 0 for slice\n",
      "  keepdims=keepdims)\n",
      "C:\\Users\\jhuel\\Anaconda3\\lib\\site-packages\\numpy\\core\\_methods.py:132: RuntimeWarning: invalid value encountered in double_scalars\n",
      "  ret = ret.dtype.type(ret / rcount)\n"
     ]
    },
    {
     "data": {
      "text/plain": [
       "(<Figure size 432x288 with 1 Axes>,\n",
       " <matplotlib.axes._subplots.AxesSubplot at 0x1a784e78e10>)"
      ]
     },
     "execution_count": 142,
     "metadata": {},
     "output_type": "execute_result"
    },
    {
     "data": {
      "image/png": "[encoded data removed]",
      "text/plain": [
       "<Figure size 432x288 with 1 Axes>"
      ]
     },
     "metadata": {
      "needs_background": "light"
     },
     "output_type": "display_data"
    }
   ],
   "source": [
    "plot_sfs(efs.get_metric_dict(), kind='std_dev')"
   ]
  },
  {
   "cell_type": "code",
   "execution_count": null,
   "metadata": {},
   "outputs": [],
   "source": []
  },
  {
   "cell_type": "markdown",
   "metadata": {},
   "source": [
    "Además, existen cuatro métricas importantes (AIC, AICc, BIC y Mallows Cp) que se utilizan comúnmente para la evaluación y selección de modelos. Se trata de una estimación no sesgada del error de predicción del modelo MSE. Cuanto más bajas sean estas métricas, mejor será el modelo.\n",
    "\n"
   ]
  },
  {
   "cell_type": "code",
   "execution_count": 131,
   "metadata": {},
   "outputs": [
    {
     "name": "stdout",
     "output_type": "stream",
     "text": [
      "OLS regression model for the association between price and carat\n",
      "                            OLS Regression Results                            \n",
      "==============================================================================\n",
      "Dep. Variable:               DIABETES   R-squared:                       0.007\n",
      "Model:                            OLS   Adj. R-squared:                  0.007\n",
      "Method:                 Least Squares   F-statistic:                     2551.\n",
      "Date:                Tue, 09 Feb 2021   Prob (F-statistic):               0.00\n",
      "Time:                        21:10:01   Log-Likelihood:            -1.4452e+05\n",
      "No. Observations:              347502   AIC:                         2.890e+05\n",
      "Df Residuals:                  347500   BIC:                         2.891e+05\n",
      "Df Model:                           1                                         \n",
      "Covariance Type:            nonrobust                                         \n",
      "==============================================================================\n",
      "                 coef    std err          t      P>|t|      [0.025      0.975]\n",
      "------------------------------------------------------------------------------\n",
      "Intercept      0.1576      0.001    251.184      0.000       0.156       0.159\n",
      "EPOC           0.2478      0.005     50.510      0.000       0.238       0.257\n",
      "==============================================================================\n",
      "Omnibus:                   102751.656   Durbin-Watson:                   1.994\n",
      "Prob(Omnibus):                  0.000   Jarque-Bera (JB):           221977.019\n",
      "Skew:                           1.828   Prob(JB):                         0.00\n",
      "Kurtosis:                       4.403   Cond. No.                         7.89\n",
      "==============================================================================\n",
      "\n",
      "Warnings:\n",
      "[1] Standard Errors assume that the covariance matrix of the errors is correctly specified.\n"
     ]
    }
   ],
   "source": [
    "import statsmodels.api as sm\n",
    "import statsmodels.formula.api as smf \n",
    "print (\"OLS regression model for the association between price and carat\")\n",
    "# reg1 is the model name , followed by equal sign. \n",
    "metricas = smf.ols(formula = 'DIABETES ~ EPOC', data=bdata).fit()\n",
    "# print the result\n",
    "print (metricas.summary())"
   ]
  },
  {
   "cell_type": "code",
   "execution_count": 132,
   "metadata": {},
   "outputs": [
    {
     "data": {
      "image/png": "[encoded data removed]",
      "text/plain": [
       "<Figure size 432x288 with 1 Axes>"
      ]
     },
     "metadata": {
      "needs_background": "light"
     },
     "output_type": "display_data"
    }
   ],
   "source": [
    "#Q-Q plot for normality\n",
    "fig4=sm.qqplot(metricas.resid, line='r')"
   ]
  },
  {
   "cell_type": "markdown",
   "metadata": {},
   "source": [
    "# SelectKBest"
   ]
  },
  {
   "cell_type": "code",
   "execution_count": 148,
   "metadata": {},
   "outputs": [],
   "source": [
    "# Create feature and target variable for Classification problem\n",
    "X_clf=bdata.iloc[:,1:5] # features: SepalLengthCm', 'SepalWidthCm', 'PetalLengthCm', 'PetalWidthCm'\n",
    "y_clf=bdata.iloc[:,5] # Target variable: Iris species"
   ]
  },
  {
   "cell_type": "code",
   "execution_count": 150,
   "metadata": {},
   "outputs": [],
   "source": [
    "# Import SelectKBest, chi2(score function for classification), f_regression (score function for regression)\n",
    "from sklearn.feature_selection import SelectKBest, chi2, f_regression"
   ]
  },
  {
   "cell_type": "code",
   "execution_count": 151,
   "metadata": {},
   "outputs": [],
   "source": [
    "# Create the object for SelectKBest and fit and transform the classification data\n",
    "# k is the number of features you want to select [here it's 2]\n",
    "X_clf_new=SelectKBest(score_func=chi2,k=2).fit_transform(X_clf,y_clf)"
   ]
  },
  {
   "cell_type": "code",
   "execution_count": 152,
   "metadata": {},
   "outputs": [
    {
     "name": "stdout",
     "output_type": "stream",
     "text": [
      "[[0 0]\n",
      " [0 0]\n",
      " [0 0]\n",
      " [0 0]\n",
      " [1 0]]\n"
     ]
    }
   ],
   "source": [
    "# Check the newly created variable for top two best features\n",
    "print(X_clf_new[:5])"
   ]
  },
  {
   "cell_type": "code",
   "execution_count": 153,
   "metadata": {},
   "outputs": [
    {
     "name": "stdout",
     "output_type": "stream",
     "text": [
      "   OBE1DAD  DIABETES  EPOC  ASMA\n",
      "0        0         0     0     0\n",
      "1        0         0     0     0\n",
      "2        0         0     0     0\n",
      "3        0         0     0     0\n",
      "4        0         1     0     0\n"
     ]
    }
   ],
   "source": [
    "# Compare the newly created values with feature set values to know the selected features\n",
    "print(X_clf.head())"
   ]
  },
  {
   "cell_type": "code",
   "execution_count": null,
   "metadata": {},
   "outputs": [],
   "source": []
  },
  {
   "cell_type": "markdown",
   "metadata": {},
   "source": [
    "# OneHotEncoder"
   ]
  },
  {
   "cell_type": "markdown",
   "metadata": {},
   "source": [
    "OneHotEncoder de la biblioteca SciKit solo toma valores categóricos numéricos, por lo tanto, cualquier valor del tipo de cadena debe codificarse en una etiqueta antes que uno en caliente. "
   ]
  },
  {
   "cell_type": "code",
   "execution_count": 155,
   "metadata": {},
   "outputs": [],
   "source": [
    "from sklearn.preprocessing import OneHotEncoder\n",
    "from sklearn.preprocessing import LabelEncoder\n",
    "# creating instance of one-hot-encoder\n",
    "enc = OneHotEncoder(handle_unknown='ignore')"
   ]
  },
  {
   "cell_type": "code",
   "execution_count": 158,
   "metadata": {},
   "outputs": [
    {
     "name": "stderr",
     "output_type": "stream",
     "text": [
      "C:\\Users\\jhuel\\Anaconda3\\lib\\site-packages\\sklearn\\preprocessing\\_encoders.py:415: FutureWarning: The handling of integer data will change in version 0.22. Currently, the categories are determined based on the range [0, max(values)], while in the future they will be determined based on the unique values.\n",
      "If you want the future behaviour and silence this warning, you can specify \"categories='auto'\".\n",
      "In case you used a LabelEncoder before this OneHotEncoder to convert the categories to integers, then you can now use the OneHotEncoder directly.\n",
      "  warnings.warn(msg, FutureWarning)\n"
     ]
    },
    {
     "data": {
      "text/plain": [
       "array([[1., 0.],\n",
       "       [1., 0.],\n",
       "       [1., 0.],\n",
       "       ...,\n",
       "       [1., 0.],\n",
       "       [1., 0.],\n",
       "       [1., 0.]])"
      ]
     },
     "execution_count": 158,
     "metadata": {},
     "output_type": "execute_result"
    }
   ],
   "source": [
    "ohe = OneHotEncoder(sparse = False)\n",
    "le = LabelEncoder()\n",
    "ohe.fit_transform(le.fit_transform(y_clf).reshape(-1, 1))"
   ]
  },
  {
   "cell_type": "code",
   "execution_count": null,
   "metadata": {},
   "outputs": [],
   "source": []
  },
  {
   "cell_type": "code",
   "execution_count": 26,
   "metadata": {},
   "outputs": [
    {
     "data": {
      "image/png": "[encoded data removed]",
      "text/plain": [
       "<Figure size 1879.88x1800 with 110 Axes>"
      ]
     },
     "metadata": {
      "needs_background": "light"
     },
     "output_type": "display_data"
    }
   ],
   "source": [
    "import matplotlib.pyplot as plt  # Librería de gráficos de python\n",
    "import seaborn as sns            # Librería de gráficos (complemento)\n",
    "\n",
    "#sns.pairplot(auto[var_num], height=3, diag_kind= 'hist', kind='scatter', \n",
    "#             markers='P')\n",
    "\n",
    "sns.pairplot(bdata, diag_kind= 'hist', kind='scatter', \n",
    "             markers=[\"o\", \"D\"], hue = 'SEXO', palette= 'husl')\n",
    "plt.show()"
   ]
  },
  {
   "cell_type": "code",
   "execution_count": 27,
   "metadata": {},
   "outputs": [
    {
     "name": "stdout",
     "output_type": "stream",
     "text": [
      "HOMBRE    186233\n",
      "MUJER     161269\n",
      "Name: SEXO, dtype: int64\n"
     ]
    }
   ],
   "source": [
    "print(bdata['SEXO'].value_counts())"
   ]
  },
  {
   "cell_type": "markdown",
   "metadata": {},
   "source": [
    "`Esto es una línea de código`"
   ]
  },
  {
   "cell_type": "code",
   "execution_count": 42,
   "metadata": {},
   "outputs": [],
   "source": [
    "#bibliotecas necesarias para el funcionamiento\n",
    "import pandas                  as pd                     #manejo y manipulación de dataframes\n",
    "import scipy\n",
    "import numpy                   as np                     #soporte matricial y vectorial\n",
    "import matplotlib.pyplot       as plt                    #graficos\n",
    "import joblib\n",
    "from   sklearn.model_selection import GridSearchCV       #optimización de hiperparametros\n",
    "from   sklearn                 import metrics            #metricas de validación\n",
    "from   sklearn.model_selection import train_test_split   #segmentación de muestra\n",
    "from   sklearn.linear_model    import LogisticRegression #clasificador \n",
    "from   sklearn.impute          import SimpleImputer      \n",
    "from   sklearn.compose         import ColumnTransformer\n",
    "from   sklearn.pipeline        import Pipeline\n",
    "from   sklearn.preprocessing   import LabelEncoder\n",
    "from   sklearn.preprocessing   import OneHotEncoder,StandardScaler\n",
    "from   sklearn.preprocessing   import KBinsDiscretizer\n",
    "from   sklearn.metrics         import accuracy_score, precision_score, recall_score, f1_score"
   ]
  },
  {
   "cell_type": "code",
   "execution_count": 43,
   "metadata": {},
   "outputs": [
    {
     "data": {
      "text/plain": [
       "'C:\\\\Users\\\\jhuel\\\\Desktop\\\\DataBricks'"
      ]
     },
     "execution_count": 43,
     "metadata": {},
     "output_type": "execute_result"
    }
   ],
   "source": [
    "pwd"
   ]
  },
  {
   "cell_type": "code",
   "execution_count": 44,
   "metadata": {},
   "outputs": [],
   "source": [
    "data = pd.read_csv(\"covid.csv\")"
   ]
  },
  {
   "cell_type": "code",
   "execution_count": 45,
   "metadata": {},
   "outputs": [
    {
     "data": {
      "text/plain": [
       "AMBULATORIO      249047\n",
       "HOSPITALIZADO     98455\n",
       "Name: TIPO PACIENTE, dtype: int64"
      ]
     },
     "execution_count": 45,
     "metadata": {},
     "output_type": "execute_result"
    }
   ],
   "source": [
    "data[\"TIPO PACIENTE\"].value_counts()"
   ]
  },
  {
   "cell_type": "code",
   "execution_count": 47,
   "metadata": {
    "scrolled": true
   },
   "outputs": [
    {
     "data": {
      "text/html": [
       "<div>\n",
       "<style scoped>\n",
       "    .dataframe tbody tr th:only-of-type {\n",
       "        vertical-align: middle;\n",
       "    }\n",
       "\n",
       "    .dataframe tbody tr th {\n",
       "        vertical-align: top;\n",
       "    }\n",
       "\n",
       "    .dataframe thead th {\n",
       "        text-align: right;\n",
       "    }\n",
       "</style>\n",
       "<table border=\"1\" class=\"dataframe\">\n",
       "  <thead>\n",
       "    <tr style=\"text-align: right;\">\n",
       "      <th></th>\n",
       "      <th>Unnamed: 0</th>\n",
       "      <th>SEXO</th>\n",
       "      <th>OBESIDAD</th>\n",
       "      <th>DIABETES</th>\n",
       "      <th>EPOC</th>\n",
       "      <th>ASMA</th>\n",
       "      <th>CARDIOVASCULAR</th>\n",
       "      <th>RENAL CRONICA</th>\n",
       "      <th>INMUNOSUPRESION</th>\n",
       "      <th>HIPERTENSION</th>\n",
       "      <th>EDAD</th>\n",
       "    </tr>\n",
       "  </thead>\n",
       "  <tbody>\n",
       "    <tr>\n",
       "      <th>0</th>\n",
       "      <td>0</td>\n",
       "      <td>MUJER</td>\n",
       "      <td>NO</td>\n",
       "      <td>NO</td>\n",
       "      <td>NO</td>\n",
       "      <td>NO</td>\n",
       "      <td>NO</td>\n",
       "      <td>NO</td>\n",
       "      <td>NO</td>\n",
       "      <td>NO</td>\n",
       "      <td>51</td>\n",
       "    </tr>\n",
       "    <tr>\n",
       "      <th>1</th>\n",
       "      <td>1</td>\n",
       "      <td>MUJER</td>\n",
       "      <td>NO</td>\n",
       "      <td>NO</td>\n",
       "      <td>NO</td>\n",
       "      <td>NO</td>\n",
       "      <td>NO</td>\n",
       "      <td>NO</td>\n",
       "      <td>NO</td>\n",
       "      <td>NO</td>\n",
       "      <td>37</td>\n",
       "    </tr>\n",
       "    <tr>\n",
       "      <th>2</th>\n",
       "      <td>2</td>\n",
       "      <td>HOMBRE</td>\n",
       "      <td>NO</td>\n",
       "      <td>NO</td>\n",
       "      <td>NO</td>\n",
       "      <td>NO</td>\n",
       "      <td>NO</td>\n",
       "      <td>NO</td>\n",
       "      <td>NO</td>\n",
       "      <td>NO</td>\n",
       "      <td>18</td>\n",
       "    </tr>\n",
       "    <tr>\n",
       "      <th>3</th>\n",
       "      <td>3</td>\n",
       "      <td>HOMBRE</td>\n",
       "      <td>NO</td>\n",
       "      <td>NO</td>\n",
       "      <td>NO</td>\n",
       "      <td>NO</td>\n",
       "      <td>NO</td>\n",
       "      <td>NO</td>\n",
       "      <td>NO</td>\n",
       "      <td>NO</td>\n",
       "      <td>40</td>\n",
       "    </tr>\n",
       "    <tr>\n",
       "      <th>4</th>\n",
       "      <td>4</td>\n",
       "      <td>MUJER</td>\n",
       "      <td>NO</td>\n",
       "      <td>SI</td>\n",
       "      <td>NO</td>\n",
       "      <td>NO</td>\n",
       "      <td>NO</td>\n",
       "      <td>SI</td>\n",
       "      <td>NO</td>\n",
       "      <td>SI</td>\n",
       "      <td>78</td>\n",
       "    </tr>\n",
       "  </tbody>\n",
       "</table>\n",
       "</div>"
      ],
      "text/plain": [
       "   Unnamed: 0    SEXO OBESIDAD DIABETES EPOC ASMA CARDIOVASCULAR  \\\n",
       "0           0   MUJER       NO       NO   NO   NO             NO   \n",
       "1           1   MUJER       NO       NO   NO   NO             NO   \n",
       "2           2  HOMBRE       NO       NO   NO   NO             NO   \n",
       "3           3  HOMBRE       NO       NO   NO   NO             NO   \n",
       "4           4   MUJER       NO       SI   NO   NO             NO   \n",
       "\n",
       "  RENAL CRONICA INMUNOSUPRESION HIPERTENSION  EDAD  \n",
       "0            NO              NO           NO    51  \n",
       "1            NO              NO           NO    37  \n",
       "2            NO              NO           NO    18  \n",
       "3            NO              NO           NO    40  \n",
       "4            SI              NO           SI    78  "
      ]
     },
     "execution_count": 47,
     "metadata": {},
     "output_type": "execute_result"
    }
   ],
   "source": [
    "y=LabelEncoder().fit_transform(data[\"TIPO PACIENTE\"])\n",
    "X=data.drop([\"TIPO PACIENTE\"],axis=1)\n",
    "X.head(5)"
   ]
  },
  {
   "cell_type": "code",
   "execution_count": 95,
   "metadata": {},
   "outputs": [],
   "source": [
    "#crea un pipeline para generar el modelo\n",
    "def modelo(X_train, y_train,numeric_features,categorical_features):\n",
    "    numeric_transformer = Pipeline(steps=[\n",
    "    ('imputer', KBinsDiscretizer(n_bins=5, encode='ordinal', strategy='quantile'))])\n",
    "    categorical_transformer = Pipeline(steps=[\n",
    "        #imputacion por el valor más frecuente\n",
    "    ('imputer', SimpleImputer(strategy='most_frequent', fill_value='missing')),\n",
    "    #onehot encoder para las varibales categoricas    \n",
    "    ('onehot', OneHotEncoder(handle_unknown='ignore'))])\n",
    "    preprocessor = ColumnTransformer(\n",
    "    transformers=[\n",
    "        ('num', numeric_transformer, numeric_features),\n",
    "        ('cat', categorical_transformer, categorical_features)])\n",
    "    #el pipeline con el procesamiento y el claificador\n",
    "    clf = Pipeline(steps=[('preprocessor', preprocessor),\n",
    "                      ('classifier', gridsearh())])\n",
    "    modelo=clf.fit(X_train, y_train)\n",
    "    return modelo"
   ]
  },
  {
   "cell_type": "code",
   "execution_count": 49,
   "metadata": {},
   "outputs": [],
   "source": [
    "#El grid search prueba con varios modelos usando holdout 70-30\n",
    "def gridsearh():\n",
    "    clf = LogisticRegression(fit_intercept=True,solver='lbfgs',tol=1e-5,max_iter=75,n_jobs=8)\n",
    "    grid_values = {'penalty': [ 'l2'],'C':np.logspace(-5, 5, 100)}\n",
    "    \"\"\"se evalúan todas las combinaciones posibles de valores de parámetros y \n",
    "    se conserva la mejor combinacion.\"\"\"   \n",
    "    grid_clf_acc = GridSearchCV(clf, param_grid = grid_values,scoring = 'accuracy')\n",
    "    return grid_clf_acc"
   ]
  },
  {
   "cell_type": "code",
   "execution_count": 50,
   "metadata": {},
   "outputs": [
    {
     "name": "stderr",
     "output_type": "stream",
     "text": [
      "C:\\Users\\jhuel\\Anaconda3\\lib\\site-packages\\sklearn\\model_selection\\_split.py:1978: FutureWarning: The default value of cv will change from 3 to 5 in version 0.22. Specify it explicitly to silence this warning.\n",
      "  warnings.warn(CV_WARNING, FutureWarning)\n"
     ]
    },
    {
     "name": "stdout",
     "output_type": "stream",
     "text": [
      "model score: 0.763\n"
     ]
    }
   ],
   "source": [
    "#El score obtenido con el modelo\n",
    "X_train, X_test, y_train, y_test = train_test_split(X, y, test_size=0.3)\n",
    "categorical_features = ['SEXO','OBESIDAD','DIABETES','EPOC','ASMA','CARDIOVASCULAR','RENAL CRONICA',\"INMUNOSUPRESION\",\"HIPERTENSION\"]\n",
    "numeric_features=['EDAD']\n",
    "modelo=modelo(X_train, y_train,numeric_features,categorical_features)\n",
    "print(\"model score: %.3f\" % modelo.score(X_test, y_test))"
   ]
  },
  {
   "cell_type": "code",
   "execution_count": 55,
   "metadata": {
    "scrolled": true
   },
   "outputs": [
    {
     "data": {
      "text/plain": [
       "['modelos/logistic_modelV3.pkl']"
      ]
     },
     "execution_count": 55,
     "metadata": {},
     "output_type": "execute_result"
    }
   ],
   "source": [
    "#se guarda el modelo serializado\n",
    "joblib.dump(modelo,\"modelos/logistic_modelV3.pkl\")"
   ]
  },
  {
   "cell_type": "code",
   "execution_count": 114,
   "metadata": {},
   "outputs": [
    {
     "ename": "NameError",
     "evalue": "name 'sklearn' is not defined",
     "output_type": "error",
     "traceback": [
      "\u001b[1;31m---------------------------------------------------------------------------\u001b[0m",
      "\u001b[1;31mNameError\u001b[0m                                 Traceback (most recent call last)",
      "\u001b[1;32m<ipython-input-114-62454d188be0>\u001b[0m in \u001b[0;36m<module>\u001b[1;34m\u001b[0m\n\u001b[1;32m----> 1\u001b[1;33m \u001b[0msklearn\u001b[0m\u001b[1;33m.\u001b[0m\u001b[0mdatasets\u001b[0m\u001b[1;33m.\u001b[0m\u001b[0mget_data_home\u001b[0m\u001b[1;33m(\u001b[0m\u001b[0mdata_home\u001b[0m\u001b[1;33m=\u001b[0m\u001b[1;32mNone\u001b[0m\u001b[1;33m)\u001b[0m\u001b[1;33m\u001b[0m\u001b[1;33m\u001b[0m\u001b[0m\n\u001b[0m",
      "\u001b[1;31mNameError\u001b[0m: name 'sklearn' is not defined"
     ]
    }
   ],
   "source": [
    "sklearn.datasets.get_data_home(data_home=None)"
   ]
  },
  {
   "cell_type": "code",
   "execution_count": 57,
   "metadata": {},
   "outputs": [
    {
     "name": "stdout",
     "output_type": "stream",
     "text": [
      "[[ 0.60338349  0.15918152 -0.33967807 -0.20790939  0.02741284 -0.3996552\n",
      "   0.21915865 -0.32848019  0.14798364  0.01943898 -0.19993553 -0.17695273\n",
      "  -0.00354382 -0.56395803  0.38346148 -0.47738373  0.29688717 -0.22925057\n",
      "   0.04875401]]\n",
      "[-0.18445755]\n"
     ]
    }
   ],
   "source": [
    "#Se imprimen los coeficientes asociados a los estimadores\n",
    "print(modelo.named_steps['classifier'].best_estimator_.coef_)\n",
    "print(modelo.named_steps['classifier'].best_estimator_.intercept_)"
   ]
  },
  {
   "cell_type": "code",
   "execution_count": 59,
   "metadata": {},
   "outputs": [
    {
     "name": "stdout",
     "output_type": "stream",
     "text": [
      "LogisticRegression(C=0.13848863713938717, class_weight=None, dual=False,\n",
      "                   fit_intercept=True, intercept_scaling=1, l1_ratio=None,\n",
      "                   max_iter=75, multi_class='warn', n_jobs=8, penalty='l2',\n",
      "                   random_state=None, solver='lbfgs', tol=1e-05, verbose=0,\n",
      "                   warm_start=False)\n"
     ]
    }
   ],
   "source": [
    "print(modelo.named_steps['classifier'].best_estimator_)"
   ]
  },
  {
   "cell_type": "code",
   "execution_count": 60,
   "metadata": {
    "scrolled": true
   },
   "outputs": [
    {
     "name": "stdout",
     "output_type": "stream",
     "text": [
      "[[66616  7996]\n",
      " [16714 12925]]\n"
     ]
    }
   ],
   "source": [
    "#la matriz de confusion\n",
    "predict=modelo.predict(X_test)\n",
    "cm = metrics.confusion_matrix(y_test, predict)\n",
    "print(cm)"
   ]
  },
  {
   "cell_type": "code",
   "execution_count": 76,
   "metadata": {},
   "outputs": [
    {
     "name": "stdout",
     "output_type": "stream",
     "text": [
      "              precision    recall  f1-score   support\n",
      "\n",
      "           0       0.80      0.89      0.84     74612\n",
      "           1       0.62      0.44      0.51     29639\n",
      "\n",
      "    accuracy                           0.76    104251\n",
      "   macro avg       0.71      0.66      0.68    104251\n",
      "weighted avg       0.75      0.76      0.75    104251\n",
      "\n"
     ]
    }
   ],
   "source": [
    "from sklearn.metrics import classification_report\n",
    "print(classification_report(y_test, predict))"
   ]
  },
  {
   "cell_type": "code",
   "execution_count": 64,
   "metadata": {
    "scrolled": false
   },
   "outputs": [
    {
     "name": "stdout",
     "output_type": "stream",
     "text": [
      "Collecting sklearn\n",
      "  Downloading https://files.pythonhosted.org/packages/1e/7a/dbb3be0ce9bd5c8b7e3d87328e79063f8b263b2b1bfa4774cb1147bfcd3f/sklearn-0.0.tar.gz\n",
      "Requirement already satisfied, skipping upgrade: scikit-learn in c:\\users\\jhuel\\anaconda3\\lib\\site-packages (from sklearn) (0.21.2)\n",
      "Requirement already satisfied, skipping upgrade: joblib>=0.11 in c:\\users\\jhuel\\anaconda3\\lib\\site-packages (from scikit-learn->sklearn) (0.13.2)\n",
      "Requirement already satisfied, skipping upgrade: numpy>=1.11.0 in c:\\users\\jhuel\\anaconda3\\lib\\site-packages (from scikit-learn->sklearn) (1.16.4)\n",
      "Requirement already satisfied, skipping upgrade: scipy>=0.17.0 in c:\\users\\jhuel\\anaconda3\\lib\\site-packages (from scikit-learn->sklearn) (1.4.1)\n",
      "Building wheels for collected packages: sklearn\n",
      "  Building wheel for sklearn (setup.py): started\n",
      "  Building wheel for sklearn (setup.py): finished with status 'done'\n",
      "  Stored in directory: C:\\Users\\jhuel\\AppData\\Local\\pip\\Cache\\wheels\\76\\03\\bb\\589d421d27431bcd2c6da284d5f2286c8e3b2ea3cf1594c074\n",
      "Successfully built sklearn\n",
      "Installing collected packages: sklearn\n",
      "Successfully installed sklearn-0.0\n"
     ]
    }
   ],
   "source": [
    "!pip install --upgrade sklearn"
   ]
  },
  {
   "cell_type": "code",
   "execution_count": null,
   "metadata": {},
   "outputs": [],
   "source": []
  },
  {
   "cell_type": "code",
   "execution_count": 159,
   "metadata": {},
   "outputs": [
    {
     "ename": "NameError",
     "evalue": "name 'score' is not defined",
     "output_type": "error",
     "traceback": [
      "\u001b[1;31m---------------------------------------------------------------------------\u001b[0m",
      "\u001b[1;31mNameError\u001b[0m                                 Traceback (most recent call last)",
      "\u001b[1;32m<ipython-input-159-b18841469b1d>\u001b[0m in \u001b[0;36m<module>\u001b[1;34m\u001b[0m\n\u001b[0;32m      3\u001b[0m \u001b[0mplt\u001b[0m\u001b[1;33m.\u001b[0m\u001b[0mylabel\u001b[0m\u001b[1;33m(\u001b[0m\u001b[1;34m'Actual label'\u001b[0m\u001b[1;33m)\u001b[0m\u001b[1;33m;\u001b[0m\u001b[1;33m\u001b[0m\u001b[1;33m\u001b[0m\u001b[0m\n\u001b[0;32m      4\u001b[0m \u001b[0mplt\u001b[0m\u001b[1;33m.\u001b[0m\u001b[0mxlabel\u001b[0m\u001b[1;33m(\u001b[0m\u001b[1;34m'Predicted label'\u001b[0m\u001b[1;33m)\u001b[0m\u001b[1;33m;\u001b[0m\u001b[1;33m\u001b[0m\u001b[1;33m\u001b[0m\u001b[0m\n\u001b[1;32m----> 5\u001b[1;33m \u001b[0mall_sample_title\u001b[0m \u001b[1;33m=\u001b[0m \u001b[1;34m'Accuracy Score: {0}'\u001b[0m\u001b[1;33m.\u001b[0m\u001b[0mformat\u001b[0m\u001b[1;33m(\u001b[0m\u001b[0mscore\u001b[0m\u001b[1;33m)\u001b[0m\u001b[1;33m\u001b[0m\u001b[1;33m\u001b[0m\u001b[0m\n\u001b[0m\u001b[0;32m      6\u001b[0m \u001b[0mplt\u001b[0m\u001b[1;33m.\u001b[0m\u001b[0mtitle\u001b[0m\u001b[1;33m(\u001b[0m\u001b[0mall_sample_title\u001b[0m\u001b[1;33m,\u001b[0m \u001b[0msize\u001b[0m \u001b[1;33m=\u001b[0m \u001b[1;36m15\u001b[0m\u001b[1;33m)\u001b[0m\u001b[1;33m;\u001b[0m\u001b[1;33m\u001b[0m\u001b[1;33m\u001b[0m\u001b[0m\n",
      "\u001b[1;31mNameError\u001b[0m: name 'score' is not defined"
     ]
    },
    {
     "data": {
      "image/png": "[encoded data removed]",
      "text/plain": [
       "<Figure size 648x648 with 2 Axes>"
      ]
     },
     "metadata": {
      "needs_background": "light"
     },
     "output_type": "display_data"
    }
   ],
   "source": [
    "plt.figure(figsize=(9,9))\n",
    "sns.heatmap(cm, annot=True, fmt=\".3f\", linewidths=.5, square = True, cmap = 'Blues_r');\n",
    "plt.ylabel('Actual label');\n",
    "plt.xlabel('Predicted label');\n",
    "all_sample_title = 'Accuracy Score: {0}'.format(score)\n",
    "plt.title(all_sample_title, size = 15);"
   ]
  },
  {
   "cell_type": "code",
   "execution_count": null,
   "metadata": {},
   "outputs": [],
   "source": []
  },
  {
   "cell_type": "code",
   "execution_count": 65,
   "metadata": {
    "collapsed": true
   },
   "outputs": [
    {
     "ename": "ImportError",
     "evalue": "cannot import name 'plot_confusion_matrix' from 'sklearn.metrics' (C:\\Users\\jhuel\\Anaconda3\\lib\\site-packages\\sklearn\\metrics\\__init__.py)",
     "output_type": "error",
     "traceback": [
      "\u001b[1;31m---------------------------------------------------------------------------\u001b[0m",
      "\u001b[1;31mImportError\u001b[0m                               Traceback (most recent call last)",
      "\u001b[1;32m<ipython-input-65-ebfa5cfc2bb8>\u001b[0m in \u001b[0;36m<module>\u001b[1;34m\u001b[0m\n\u001b[1;32m----> 1\u001b[1;33m \u001b[1;32mfrom\u001b[0m \u001b[0msklearn\u001b[0m\u001b[1;33m.\u001b[0m\u001b[0mmetrics\u001b[0m \u001b[1;32mimport\u001b[0m \u001b[0mplot_confusion_matrix\u001b[0m\u001b[1;33m\u001b[0m\u001b[1;33m\u001b[0m\u001b[0m\n\u001b[0m",
      "\u001b[1;31mImportError\u001b[0m: cannot import name 'plot_confusion_matrix' from 'sklearn.metrics' (C:\\Users\\jhuel\\Anaconda3\\lib\\site-packages\\sklearn\\metrics\\__init__.py)"
     ]
    }
   ],
   "source": [
    "from sklearn.metrics import plot_confusion_matrix"
   ]
  },
  {
   "cell_type": "code",
   "execution_count": 80,
   "metadata": {},
   "outputs": [],
   "source": [
    "import numpy as np\n",
    "\n",
    "\n",
    "def plot_confusion_matrix(cm,\n",
    "                          target_names,\n",
    "                          title='Confusion matrix',\n",
    "                          cmap=None,\n",
    "                          normalize=True):\n",
    "    \"\"\"\n",
    "    given a sklearn confusion matrix (cm), make a nice plot\n",
    "\n",
    "    Arguments\n",
    "    ---------\n",
    "    cm:           confusion matrix from sklearn.metrics.confusion_matrix\n",
    "\n",
    "    target_names: given classification classes such as [0, 1, 2]\n",
    "                  the class names, for example: ['high', 'medium', 'low']\n",
    "\n",
    "    title:        the text to display at the top of the matrix\n",
    "\n",
    "    cmap:         the gradient of the values displayed from matplotlib.pyplot.cm\n",
    "                  see http://matplotlib.org/examples/color/colormaps_reference.html\n",
    "                  plt.get_cmap('jet') or plt.cm.Blues\n",
    "\n",
    "    normalize:    If False, plot the raw numbers\n",
    "                  If True, plot the proportions\n",
    "\n",
    "    Usage\n",
    "    -----\n",
    "    plot_confusion_matrix(cm           = cm,                  # confusion matrix created by\n",
    "                                                              # sklearn.metrics.confusion_matrix\n",
    "                          normalize    = True,                # show proportions\n",
    "                          target_names = y_labels_vals,       # list of names of the classes\n",
    "                          title        = best_estimator_name) # title of graph\n",
    "\n",
    "    Citiation\n",
    "    ---------\n",
    "    http://scikit-learn.org/stable/auto_examples/model_selection/plot_confusion_matrix.html\n",
    "\n",
    "    \"\"\"\n",
    "    import matplotlib.pyplot as plt\n",
    "    import numpy as np\n",
    "    import itertools\n",
    "\n",
    "    accuracy = np.trace(cm) / float(np.sum(cm))\n",
    "    misclass = 1 - accuracy\n",
    "\n",
    "    if cmap is None:\n",
    "        cmap = plt.get_cmap('Blues')\n",
    "\n",
    "    plt.figure(figsize=(8, 6))\n",
    "    plt.imshow(cm, interpolation='nearest', cmap=cmap)\n",
    "    plt.title(title)\n",
    "    plt.colorbar()\n",
    "\n",
    "    if target_names is not None:\n",
    "        tick_marks = np.arange(len(target_names))\n",
    "        plt.xticks(tick_marks, target_names, rotation=45)\n",
    "        plt.yticks(tick_marks, target_names)\n",
    "\n",
    "    if normalize:\n",
    "        cm = cm.astype('float') / cm.sum(axis=1)[:, np.newaxis]\n",
    "\n",
    "\n",
    "    thresh = cm.max() / 1.5 if normalize else cm.max() / 2\n",
    "    for i, j in itertools.product(range(cm.shape[0]), range(cm.shape[1])):\n",
    "        if normalize:\n",
    "            plt.text(j, i, \"{:0.4f}\".format(cm[i, j]),\n",
    "                     horizontalalignment=\"center\",\n",
    "                     color=\"white\" if cm[i, j] > thresh else \"black\")\n",
    "        else:\n",
    "            plt.text(j, i, \"{:,}\".format(cm[i, j]),\n",
    "                     horizontalalignment=\"center\",\n",
    "                     color=\"white\" if cm[i, j] > thresh else \"black\")\n",
    "\n",
    "\n",
    "    plt.tight_layout()\n",
    "    plt.ylabel('True label')\n",
    "    plt.xlabel('Predicted label\\naccuracy={:0.4f}; misclass={:0.4f}'.format(accuracy, misclass))\n",
    "    plt.show()"
   ]
  },
  {
   "cell_type": "code",
   "execution_count": 82,
   "metadata": {
    "collapsed": true
   },
   "outputs": [
    {
     "ename": "TypeError",
     "evalue": "plot_confusion_matrix() got multiple values for argument 'title'",
     "output_type": "error",
     "traceback": [
      "\u001b[1;31m---------------------------------------------------------------------------\u001b[0m",
      "\u001b[1;31mTypeError\u001b[0m                                 Traceback (most recent call last)",
      "\u001b[1;32m<ipython-input-82-f08ffd002ce9>\u001b[0m in \u001b[0;36m<module>\u001b[1;34m\u001b[0m\n\u001b[0;32m      2\u001b[0m \u001b[1;32mfrom\u001b[0m \u001b[0msklearn\u001b[0m \u001b[1;32mimport\u001b[0m \u001b[1;33m*\u001b[0m\u001b[1;33m\u001b[0m\u001b[1;33m\u001b[0m\u001b[0m\n\u001b[0;32m      3\u001b[0m \u001b[1;31m#disp=metrics.plot_confusion_matrix(modelo, X_test, y_test,normalize=\"pred\",display_labels=np.array([\"NO\",\"SI\"]))\u001b[0m\u001b[1;33m\u001b[0m\u001b[1;33m\u001b[0m\u001b[1;33m\u001b[0m\u001b[0m\n\u001b[1;32m----> 4\u001b[1;33m \u001b[0mdisp\u001b[0m\u001b[1;33m=\u001b[0m\u001b[0mplot_confusion_matrix\u001b[0m\u001b[1;33m(\u001b[0m\u001b[0mmodelo\u001b[0m\u001b[1;33m,\u001b[0m \u001b[0mX_test\u001b[0m\u001b[1;33m,\u001b[0m \u001b[0my_test\u001b[0m\u001b[1;33m,\u001b[0m\u001b[0mnormalize\u001b[0m\u001b[1;33m=\u001b[0m\u001b[1;34m\"pred\"\u001b[0m\u001b[1;33m,\u001b[0m\u001b[0mtitle\u001b[0m\u001b[1;33m=\u001b[0m\u001b[0mnp\u001b[0m\u001b[1;33m.\u001b[0m\u001b[0marray\u001b[0m\u001b[1;33m(\u001b[0m\u001b[1;33m[\u001b[0m\u001b[1;34m\"NO\"\u001b[0m\u001b[1;33m,\u001b[0m\u001b[1;34m\"SI\"\u001b[0m\u001b[1;33m]\u001b[0m\u001b[1;33m)\u001b[0m\u001b[1;33m)\u001b[0m\u001b[1;33m\u001b[0m\u001b[1;33m\u001b[0m\u001b[0m\n\u001b[0m\u001b[0;32m      5\u001b[0m \u001b[0mdisp\u001b[0m\u001b[1;33m.\u001b[0m\u001b[0max_\u001b[0m\u001b[1;33m.\u001b[0m\u001b[0mset_title\u001b[0m\u001b[1;33m(\u001b[0m\u001b[1;34m\"Matriz de Confusión\"\u001b[0m\u001b[1;33m)\u001b[0m\u001b[1;33m\u001b[0m\u001b[1;33m\u001b[0m\u001b[0m\n\u001b[0;32m      6\u001b[0m \u001b[0mdisp\u001b[0m\u001b[1;33m.\u001b[0m\u001b[0mconfusion_matrix\u001b[0m\u001b[1;33m\u001b[0m\u001b[1;33m\u001b[0m\u001b[0m\n",
      "\u001b[1;31mTypeError\u001b[0m: plot_confusion_matrix() got multiple values for argument 'title'"
     ]
    }
   ],
   "source": [
    "#la matriz de confusion en scikit learn normalizada\n",
    "from sklearn import *\n",
    "#disp=metrics.plot_confusion_matrix(modelo, X_test, y_test,normalize=\"pred\",display_labels=np.array([\"NO\",\"SI\"]))\n",
    "disp=plot_confusion_matrix(modelo, X_test, y_test,normalize=\"pred\",display_labels=np.array([\"NO\",\"SI\"]))\n",
    "disp.ax_.set_title(\"Matriz de Confusión\")\n",
    "disp.confusion_matrix"
   ]
  },
  {
   "cell_type": "code",
   "execution_count": null,
   "metadata": {},
   "outputs": [],
   "source": [
    "plot_confusion_matrix(cm           = np.array([[ 1098,  1934,   807],\n",
    "                                              [  604,  4392,  6233],\n",
    "                                              [  162,  2362, 31760]]), \n",
    "                      normalize    = False,\n",
    "                      target_names = ['high', 'medium', 'low'],\n",
    "                      title        = \"Confusion Matrix\")"
   ]
  },
  {
   "cell_type": "code",
   "execution_count": 66,
   "metadata": {},
   "outputs": [],
   "source": [
    "#calculo de las probabilidades y el AUC\n",
    "probs = modelo.predict_proba(X_test)\n",
    "preds = probs[:,1]\n",
    "fpr, tpr, threshold = metrics.roc_curve(y_test, preds)\n",
    "roc_auc = metrics.auc(fpr, tpr)"
   ]
  },
  {
   "cell_type": "code",
   "execution_count": 67,
   "metadata": {},
   "outputs": [
    {
     "name": "stdout",
     "output_type": "stream",
     "text": [
      "Accuracy score:  0.7629758947156382\n",
      "Precision score:  0.6178002963529468\n",
      "Recall score:  0.43608083943452886\n",
      "F1 score:  0.5112737341772152\n"
     ]
    }
   ],
   "source": [
    "predictions=modelo.predict(X_test)\n",
    "print('Accuracy score: ', format(accuracy_score(y_test, predictions)))\n",
    "print('Precision score: ', format(precision_score(y_test, predictions)))\n",
    "print('Recall score: ', format(recall_score(y_test, predictions)))\n",
    "print('F1 score: ', format(f1_score(y_test, predictions)))"
   ]
  },
  {
   "cell_type": "code",
   "execution_count": 72,
   "metadata": {},
   "outputs": [
    {
     "data": {
      "text/plain": [
       "(array([18729., 10846., 16178.,  3086., 11947.,  3758.,  1980., 10034.,\n",
       "         3427.,  3031.,  6929.,  2103.,  4288.,  3056.,   617.,  2284.,\n",
       "          916.,   532.,   327.,   152.,    31.]),\n",
       " array([0.04279235, 0.08701504, 0.13123773, 0.17546041, 0.2196831 ,\n",
       "        0.26390579, 0.30812848, 0.35235117, 0.39657385, 0.44079654,\n",
       "        0.48501923, 0.52924192, 0.57346461, 0.61768729, 0.66190998,\n",
       "        0.70613267, 0.75035536, 0.79457805, 0.83880073, 0.88302342,\n",
       "        0.92724611, 0.9714688 ]),\n",
       " <a list of 21 Patch objects>)"
      ]
     },
     "execution_count": 72,
     "metadata": {},
     "output_type": "execute_result"
    },
    {
     "data": {
      "image/png": "[encoded data removed]",
      "text/plain": [
       "<Figure size 432x288 with 1 Axes>"
      ]
     },
     "metadata": {
      "needs_background": "light"
     },
     "output_type": "display_data"
    }
   ],
   "source": [
    "fig=plt.figure()\n",
    "axes=fig.add_axes([1,1,1.0,1.0])\n",
    "axes.set_title(\"Histograma de Probabilidades\")\n",
    "axes.set_xlim(0,1)\n",
    "axes.set_xlabel(\"Probabilidades\")\n",
    "axes.set_ylabel(\"Frecuencia\")\n",
    "axes.hist(preds,bins=21,color=\"yellow\",edgecolor=\"black\")"
   ]
  },
  {
   "cell_type": "code",
   "execution_count": 73,
   "metadata": {},
   "outputs": [
    {
     "data": {
      "text/plain": [
       "(0, 1)"
      ]
     },
     "execution_count": 73,
     "metadata": {},
     "output_type": "execute_result"
    },
    {
     "data": {
      "image/png": "[encoded data removed]",
      "text/plain": [
       "<Figure size 432x288 with 1 Axes>"
      ]
     },
     "metadata": {
      "needs_background": "light"
     },
     "output_type": "display_data"
    }
   ],
   "source": [
    "from sklearn.metrics import precision_recall_curve\n",
    "precision, recall, thresholds = precision_recall_curve(y_test, probs[:,1]) \n",
    "pr_auc = metrics.auc(recall, precision)\n",
    "plt.title(\"Precision-Recall vs Threshold\")\n",
    "plt.plot(thresholds, precision[: -1], \"b--\", label=\"Precision\")\n",
    "plt.plot(thresholds, recall[: -1], \"r--\", label=\"Recall\")\n",
    "plt.ylabel(\"Precision, Recall\")\n",
    "plt.xlabel(\"Threshold\")\n",
    "plt.legend(loc=\"lower left\")\n",
    "plt.ylim([0,1])"
   ]
  },
  {
   "cell_type": "code",
   "execution_count": 74,
   "metadata": {},
   "outputs": [
    {
     "data": {
      "image/png": "[encoded data removed]",
      "text/plain": [
       "<Figure size 432x288 with 1 Axes>"
      ]
     },
     "metadata": {
      "needs_background": "light"
     },
     "output_type": "display_data"
    }
   ],
   "source": [
    "plt.figure()\n",
    "plt.plot(fpr, tpr, label='GridSearchCV (area = %0.2f)' % roc_auc)\n",
    "plt.plot([0, 1], [0, 1],'r--')\n",
    "plt.xlim([0.0, 1.0])\n",
    "plt.ylim([0.0, 1.05])\n",
    "plt.xlabel('Tasa de falsos positivos')\n",
    "plt.ylabel('Tasa de verdaderos positivos')\n",
    "plt.title('curva ROC')\n",
    "plt.legend(loc=\"lower right\")\n",
    "plt.savefig('Log_ROC')\n",
    "plt.show()"
   ]
  },
  {
   "cell_type": "markdown",
   "metadata": {},
   "source": [
    "La curva de característica operativa del receptor (ROC) es otra herramienta común utilizada con clasificadores binarios. La línea de puntos representa la curva ROC de un clasificador puramente aleatorio; un buen clasificador permanece lo más lejos posible de esa línea (hacia la esquina superior izquierda)."
   ]
  }
 ],
 "metadata": {
  "kernelspec": {
   "display_name": "Python 3",
   "language": "python",
   "name": "python3"
  },
  "language_info": {
   "codemirror_mode": {
    "name": "ipython",
    "version": 3
   },
   "file_extension": ".py",
   "mimetype": "text/x-python",
   "name": "python",
   "nbconvert_exporter": "python",
   "pygments_lexer": "ipython3",
   "version": "3.7.3"
  }
 },
 "nbformat": 4,
 "nbformat_minor": 2
}
